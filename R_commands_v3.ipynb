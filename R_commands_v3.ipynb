{
 "cells": [
  {
   "cell_type": "markdown",
   "metadata": {},
   "source": [
    "### Running R in Jupyter notebook\n",
    "To run R commands in a Jupyter notebook, you need to install the R kernel for Jupyter. From the terminal (not RStudio or R GUI), launch R (type R and press <return>), and run the following commands:\n",
    "```r\n",
    "install.packages('devtools')\n",
    "devtools::install_github('IRkernel/IRkernel')\n",
    "# If using R 3.5, run\n",
    "IRkernel::installspec(name = 'ir35', displayname = 'R 3.5')\n",
    "# otherwise, change 3.5 to the version of R that is installed on your computer\n",
    "```"
   ]
  },
  {
   "cell_type": "markdown",
   "metadata": {},
   "source": [
    "### IRanges\n",
    "The `IRanges` package provides an efficient infrastructure for manipulating intervals/ranges of integers. This package is available on Bioconductor:  \n",
    "https://bioconductor.org/packages/release/bioc/html/IRanges.html"
   ]
  },
  {
   "cell_type": "markdown",
   "metadata": {},
   "source": [
    "To install this package, start R and enter:\n",
    "\n",
    "```r\n",
    "if (!requireNamespace(\"BiocManager\", quietly = TRUE))  \n",
    "    install.packages(\"BiocManager\")  \n",
    "BiocManager::install(\"IRanges\", version = \"3.8\")\n",
    "```"
   ]
  },
  {
   "cell_type": "code",
   "execution_count": null,
   "metadata": {},
   "outputs": [],
   "source": [
    "# Load the IRanges package \n",
    "suppressMessages(library(IRanges))"
   ]
  },
  {
   "cell_type": "markdown",
   "metadata": {},
   "source": [
    "`IRanges` are simple intervals that are defined by three parameters:\n",
    "- start\n",
    "- end\n",
    "- width\n",
    "\n",
    "To create an `IRanges` object, specify at least two of the above three parameters."
   ]
  },
  {
   "cell_type": "code",
   "execution_count": null,
   "metadata": {},
   "outputs": [],
   "source": [
    "# Construct IRanges by specifying the start and width of each interval\n",
    "ir = IRanges(start=c( 1,  5,  8, 25),\n",
    "             width=c(10, 11, 13,  6))\n",
    "ir"
   ]
  },
  {
   "cell_type": "code",
   "execution_count": null,
   "metadata": {},
   "outputs": [],
   "source": [
    "# Construct IRanges by specifying the start and the end of each interval\n",
    "ir2 = IRanges(start=1:3, end=10)\n",
    "ir2"
   ]
  },
  {
   "cell_type": "code",
   "execution_count": null,
   "metadata": {},
   "outputs": [],
   "source": [
    "ir3 = IRanges(end=10, width=10:8)\n",
    "ir3"
   ]
  },
  {
   "cell_type": "markdown",
   "metadata": {},
   "source": [
    "The properties of the intervals can be accessed using the `start()`, `end()` and `width()` methods."
   ]
  },
  {
   "cell_type": "code",
   "execution_count": null,
   "metadata": {},
   "outputs": [],
   "source": [
    "# Example IRanges\n",
    "ir"
   ]
  },
  {
   "cell_type": "code",
   "execution_count": null,
   "metadata": {},
   "outputs": [],
   "source": [
    "# Get the start positions of all ranges\n",
    "start(ir)"
   ]
  },
  {
   "cell_type": "code",
   "execution_count": null,
   "metadata": {},
   "outputs": [],
   "source": [
    "# Get the end positions of all ranges\n",
    "end(ir)"
   ]
  },
  {
   "cell_type": "code",
   "execution_count": null,
   "metadata": {},
   "outputs": [],
   "source": [
    "# Get the widths of all ranges\n",
    "width(ir)"
   ]
  },
  {
   "cell_type": "markdown",
   "metadata": {},
   "source": [
    "In order to illustrate range operations, we’ll create a function to plot ranges."
   ]
  },
  {
   "cell_type": "code",
   "execution_count": null,
   "metadata": {},
   "outputs": [],
   "source": [
    "plotRanges = function(x, xlim=x, main=deparse(substitute(x)), col=\"gray\", sep=0.5, ...){\n",
    "  height = 1\n",
    "  if (is(xlim, \"IntegerRanges\")) \n",
    "    xlim = c(min(start(xlim)), max(end(xlim)))\n",
    "  bins = disjointBins(IRanges(start(x), end(x) + 1))\n",
    "  plot.new()\n",
    "  plot.window(xlim, c(0, max(bins)*(height + sep)))\n",
    "  ybottom = bins * (sep + height) - height\n",
    "  rect(start(x)-0.5, ybottom, end(x)+0.5, ybottom + height, col=col, ...)\n",
    "  title(main)\n",
    "  axis(1)\n",
    "}\n",
    "    \n",
    "# Change plot size to 4in x 2.5in\n",
    "library(repr)\n",
    "options(repr.plot.width=4, repr.plot.height=2.5)"
   ]
  },
  {
   "cell_type": "code",
   "execution_count": null,
   "metadata": {},
   "outputs": [],
   "source": [
    "# Print IRanges and plot the corresponding intervals\n",
    "ir\n",
    "plotRanges(ir)"
   ]
  },
  {
   "cell_type": "markdown",
   "metadata": {},
   "source": [
    "### Operations with IRanges\n",
    "There are many operations that can be applied to IRanges (see https://bioconductor.org/packages/release/bioc/vignettes/IRanges/inst/doc/IRangesOverview.pdf). The operations that are most useful for us are explained below."
   ]
  },
  {
   "cell_type": "code",
   "execution_count": null,
   "metadata": {},
   "outputs": [],
   "source": [
    "# Merging redundant ranges\n",
    "\n",
    "# The function reduce() merges all IRanges into non-overlapping intervals\n",
    "reduce(ir)"
   ]
  },
  {
   "cell_type": "code",
   "execution_count": null,
   "metadata": {},
   "outputs": [],
   "source": [
    "# Plot the result of reduce()\n",
    "options(repr.plot.width=4, repr.plot.height=3)\n",
    "par(mfrow=c(2,1), mar=c(2, 4, 1, 1) + 0.1)\n",
    "plotRanges(ir)\n",
    "plotRanges(reduce(ir))"
   ]
  },
  {
   "cell_type": "code",
   "execution_count": null,
   "metadata": {},
   "outputs": [],
   "source": [
    "# Counting overlapping ranges \n",
    "# (i.e. computing the coverage/occupancy of all ranges)\n",
    "\n",
    "# The function coverage() counts the number of ranges over each position.\n",
    "cov = coverage(ir)\n",
    "cov"
   ]
  },
  {
   "cell_type": "markdown",
   "metadata": {},
   "source": [
    "**Note:** The coverage is stored using the run-length encoding (Rle) format.  \n",
    "One can convert this into an ordinary R vector using the `as.vector()` function."
   ]
  },
  {
   "cell_type": "code",
   "execution_count": null,
   "metadata": {},
   "outputs": [],
   "source": [
    "as.vector(cov)"
   ]
  },
  {
   "cell_type": "code",
   "execution_count": null,
   "metadata": {},
   "outputs": [],
   "source": [
    "# Plot the result of coverage()\n",
    "options(repr.plot.width=4, repr.plot.height=3)\n",
    "par(mfrow=c(2,1), mar=c(2, 4, 1, 1) + 0.1)\n",
    "plotRanges(ir)\n",
    "cov = as.vector(cov)\n",
    "plot(seq(1:length(cov)), cov, type='h', col=\"red\", lwd=10, lend=1,\n",
    "     xlab=\"Position\", ylab=\"Coverage\", bty=\"n\")"
   ]
  },
  {
   "cell_type": "code",
   "execution_count": null,
   "metadata": {},
   "outputs": [],
   "source": [
    "# Resizing\n",
    "\n",
    "# Example IRanges\n",
    "ir = IRanges(start=c(1, 5, 9), width=3)\n",
    "ir"
   ]
  },
  {
   "cell_type": "code",
   "execution_count": null,
   "metadata": {},
   "outputs": [],
   "source": [
    "# We can resize the ranges to have a new width, by keeping fix the start, \n",
    "# end, or center of the original intervals\n",
    "\n",
    "# Resize to width 1, keeping the left end fixed\n",
    "resize(ir, width=1, fix=\"start\")"
   ]
  },
  {
   "cell_type": "code",
   "execution_count": null,
   "metadata": {},
   "outputs": [],
   "source": [
    "# Resize to width 1, keeping the right end fixed\n",
    "resize(ir, width=1, fix=\"end\")"
   ]
  },
  {
   "cell_type": "code",
   "execution_count": null,
   "metadata": {},
   "outputs": [],
   "source": [
    "# Resize to width 1, keeping the center fixed\n",
    "resize(ir, width=1, fix=\"center\")"
   ]
  },
  {
   "cell_type": "code",
   "execution_count": null,
   "metadata": {
    "scrolled": false
   },
   "outputs": [],
   "source": [
    "# Plot the results of the resize operations\n",
    "options(repr.plot.width=4, repr.plot.height=3)\n",
    "par(mfrow=c(4,1), mar=c(2, 4, 2, 1) + 0.1)\n",
    "plotRanges(ir, xlim=c(0,12))\n",
    "plotRanges(resize(ir, width=1, fix=\"start\"), xlim=c(0,12))\n",
    "plotRanges(resize(ir, width=1, fix=\"center\"), xlim=c(0,12))\n",
    "plotRanges(resize(ir, width=1, fix=\"end\"), xlim=c(0,12))"
   ]
  },
  {
   "cell_type": "markdown",
   "metadata": {},
   "source": [
    "More info on `IRanges`:\n",
    "https://bioconductor.org/packages/release/bioc/vignettes/IRanges/inst/doc/IRangesOverview.pdf"
   ]
  },
  {
   "cell_type": "markdown",
   "metadata": {},
   "source": [
    "### GRanges\n",
    "The `GenomicRanges` package provides the `GRanges` class that allows manipulation of genomic ranges.  \n",
    "https://bioconductor.org/packages/release/bioc/html/GenomicRanges.html"
   ]
  },
  {
   "cell_type": "markdown",
   "metadata": {},
   "source": [
    "To install this package, run the following commands in R:\n",
    "\n",
    "```r\n",
    "if (!requireNamespace(\"BiocManager\", quietly = TRUE))\n",
    "    install.packages(\"BiocManager\")\n",
    "BiocManager::install(\"GenomicRanges\", version = \"3.8\")\n",
    "```"
   ]
  },
  {
   "cell_type": "code",
   "execution_count": null,
   "metadata": {},
   "outputs": [],
   "source": [
    "# Load the GenomicRanges package\n",
    "suppressMessages(library(GenomicRanges))"
   ]
  },
  {
   "cell_type": "markdown",
   "metadata": {},
   "source": [
    "The `GRanges` class represents a collection of genomic ranges. Each genomic range is characterized by a chromosome name, a start and end location, and a strand. This class can be used to store the location of genomic features such as genes, transcripts, and binding sites. Genomic ranges can be created by using the `GRanges` constructor."
   ]
  },
  {
   "cell_type": "code",
   "execution_count": null,
   "metadata": {},
   "outputs": [],
   "source": [
    "# Construct a GRanges object\n",
    "gr = GRanges(\n",
    "    seqnames = c(\"chr1\", \"chr2\", \"chr3\"),\n",
    "    ranges = IRanges(start = c(1, 3, 5), width = 5),\n",
    "    strand = c(\"+\", \"-\", \"+\"))\n",
    "gr"
   ]
  },
  {
   "cell_type": "code",
   "execution_count": null,
   "metadata": {},
   "outputs": [],
   "source": [
    "# Occupancy of GRanges is computed using the coverage() method\n",
    "cov = coverage(gr)\n",
    "cov"
   ]
  },
  {
   "cell_type": "code",
   "execution_count": null,
   "metadata": {},
   "outputs": [],
   "source": [
    "# Show coverage of chr3 as a normal vector\n",
    "as.vector(cov$chr3)"
   ]
  },
  {
   "cell_type": "code",
   "execution_count": null,
   "metadata": {},
   "outputs": [],
   "source": [
    "# GRanges can also be resized\n",
    "# Resize to width 1 and keep the center fixed\n",
    "gr\n",
    "resize(gr, width=1, fix=\"center\")"
   ]
  },
  {
   "cell_type": "code",
   "execution_count": null,
   "metadata": {},
   "outputs": [],
   "source": [
    "# When we resize the GRanges and keep the \"start\" fixed \n",
    "# we observe something interesting\n",
    "gr\n",
    "resize(gr, width=1, fix=\"start\")"
   ]
  },
  {
   "cell_type": "markdown",
   "metadata": {
    "collapsed": true
   },
   "source": [
    "When resizing `GRanges`, fix=\"start\" indicates that the 5' end of the interval will remain fixed (not necessarily the left end)."
   ]
  },
  {
   "cell_type": "code",
   "execution_count": null,
   "metadata": {},
   "outputs": [],
   "source": [
    "# Similarly, we can keep the 3' end fixed, by using the option fix=\"end\"\n",
    "gr\n",
    "resize(gr, width=1, fix=\"end\")"
   ]
  },
  {
   "cell_type": "markdown",
   "metadata": {},
   "source": [
    "More info about `GRanges` can be found here: https://bioconductor.org/packages/release/bioc/vignettes/GenomicRanges/inst/doc/GenomicRangesIntroduction.html\n",
    "\n",
    "Next we will use `GRanges` to illustrate the typical steps in a basic analysis of MNase-seq data."
   ]
  },
  {
   "cell_type": "markdown",
   "metadata": {},
   "source": [
    "### MNase-seq data analysis\n",
    "For this we will use a few extra R packages. To install the necessary R packages, run the following commands in R:\n",
    "```r\n",
    "# To install the required Bioconductor packages, run:\n",
    "if (!requireNamespace(\"BiocManager\", quietly = TRUE))\n",
    "    install.packages(\"BiocManager\")\n",
    "BiocManager::install(\n",
    "    c(\"genomation\", \"Gviz\", \"GenomicFeatures\", \"Rsamtools\", \"rtracklayer\"))\n",
    "\n",
    "# To install other packages used in this workshop, run:\n",
    "install.packages(\"ggplot2\")\n",
    "install.packages(\"pryr\")\n",
    "install.packages(\"RMariaDB\")\n",
    "```"
   ]
  },
  {
   "cell_type": "code",
   "execution_count": null,
   "metadata": {},
   "outputs": [],
   "source": [
    "# Load the necessary packages\n",
    "suppressMessages({\n",
    "    library(genomation)\n",
    "    library(Gviz)\n",
    "    library(GenomicFeatures)\n",
    "    library(Rsamtools)\n",
    "    library(rtracklayer)\n",
    "    library(ggplot2)\n",
    "    library(pryr)\n",
    "})"
   ]
  },
  {
   "cell_type": "markdown",
   "metadata": {},
   "source": [
    "First, we need to read the aligned reads from a `bam` file."
   ]
  },
  {
   "cell_type": "code",
   "execution_count": null,
   "metadata": {},
   "outputs": [],
   "source": [
    "# List all bam files from our bam folder\n",
    "all_bam_files = list.files(\"bam/\", pattern = \".bam$\", full.names = TRUE)\n",
    "all_bam_files"
   ]
  },
  {
   "cell_type": "code",
   "execution_count": null,
   "metadata": {},
   "outputs": [],
   "source": [
    "# Load one of the bam files\n",
    "bam_file = Rsamtools::BamFile('bam/MNase_400U_SRR3649299.bam')"
   ]
  },
  {
   "cell_type": "code",
   "execution_count": null,
   "metadata": {},
   "outputs": [],
   "source": [
    "# Fields that are stored and can be imported from a bam file: \n",
    "scanBamWhat()"
   ]
  },
  {
   "cell_type": "markdown",
   "metadata": {},
   "source": [
    "For now we will only need the following info:\n",
    "   - qname - read (query) name\n",
    "   - rname - reference (chromosome) name \n",
    "   - strand\n",
    "   - pos   - start position of the read\n",
    "   - isize - full length of the paired-end read"
   ]
  },
  {
   "cell_type": "code",
   "execution_count": null,
   "metadata": {},
   "outputs": [],
   "source": [
    "# Import selected fields from the bam file\n",
    "fields_to_load = c(\"qname\", \"rname\", \"strand\", \"pos\", \"isize\")\n",
    "param = ScanBamParam(what = fields_to_load)\n",
    "aln = scanBam(bam_file, param = param)"
   ]
  },
  {
   "cell_type": "code",
   "execution_count": null,
   "metadata": {},
   "outputs": [],
   "source": [
    "# Check the structure of the aln object\n",
    "str(aln)"
   ]
  },
  {
   "cell_type": "code",
   "execution_count": null,
   "metadata": {},
   "outputs": [],
   "source": [
    "# Let's subset the first element (all the information is in there)\n",
    "aln = aln[[1]]"
   ]
  },
  {
   "cell_type": "code",
   "execution_count": null,
   "metadata": {},
   "outputs": [],
   "source": [
    "# Get the total number of reads\n",
    "length(aln$qname)"
   ]
  },
  {
   "cell_type": "markdown",
   "metadata": {},
   "source": [
    "There are about 42 million reads, corresponding to about 21 million pairs (paired-end reads)."
   ]
  },
  {
   "cell_type": "code",
   "execution_count": null,
   "metadata": {},
   "outputs": [],
   "source": [
    "# Construct GRanges from the paired-end reads\n",
    "read_on_Watson_strand = (aln$strand == '+') & (aln$isize > 0)\n",
    "\n",
    "reads = GRanges(seqnames = Rle(aln$rname[read_on_Watson_strand]),\n",
    "                ranges = IRanges(start = aln$pos[read_on_Watson_strand],\n",
    "                                 width = aln$isize[read_on_Watson_strand]))\n",
    "\n",
    "reads"
   ]
  },
  {
   "cell_type": "code",
   "execution_count": null,
   "metadata": {},
   "outputs": [],
   "source": [
    "# Check the size of memory that are occupied by aln and reads objects\n",
    "pryr::object_size(aln)\n",
    "pryr::object_size(reads)"
   ]
  },
  {
   "cell_type": "markdown",
   "metadata": {},
   "source": [
    "The `aln` object occupies 2.7 GB of memory, while the `GRanges` occupy only 168 MB. To free some memory, the `aln` object can be removed now."
   ]
  },
  {
   "cell_type": "code",
   "execution_count": null,
   "metadata": {},
   "outputs": [],
   "source": [
    "# Remove aln from memory\n",
    "rm(aln)"
   ]
  },
  {
   "cell_type": "code",
   "execution_count": null,
   "metadata": {},
   "outputs": [],
   "source": [
    "# Check the number of paired-end reads that were mapped to each chromosome\n",
    "no_of_reads = table(seqnames(reads))\n",
    "no_of_reads"
   ]
  },
  {
   "cell_type": "code",
   "execution_count": null,
   "metadata": {},
   "outputs": [],
   "source": [
    "# Get the chromosome lengths\n",
    "chr_lengths = seqlengths(seqinfo(bam_file))\n",
    "chr_lengths"
   ]
  },
  {
   "cell_type": "code",
   "execution_count": null,
   "metadata": {},
   "outputs": [],
   "source": [
    "# Compute the sequencing depth (number of reads / chromosome)\n",
    "no_of_reads_per_bp = no_of_reads / chr_lengths\n",
    "no_of_reads_per_bp"
   ]
  },
  {
   "cell_type": "markdown",
   "metadata": {},
   "source": [
    "There's a slight variability in the sequencing depth per chromosome, and this is why I prefer to normalize the coverage profiles per chromosome (more about this later).  \n",
    "\n",
    "Chromosome 12 (chrXII) has a much higher sequencing depth though, because of the rDNA region, which we will mask later.\n",
    "\n",
    "The mitochondrial DNA (chrM) has a much lower sequencing depth, but we don't care about chrM, which we will discard from the analysis anyway. \n"
   ]
  },
  {
   "cell_type": "code",
   "execution_count": null,
   "metadata": {},
   "outputs": [],
   "source": [
    "# The name of all chromosomes can be obtained using seqlevels()\n",
    "seqlevels(reads)"
   ]
  },
  {
   "cell_type": "code",
   "execution_count": null,
   "metadata": {},
   "outputs": [],
   "source": [
    "# Remove chrM\n",
    "reads = dropSeqlevels(reads, \"chrM\", pruning.mode=\"coarse\")\n",
    "seqlevels(reads)"
   ]
  },
  {
   "cell_type": "code",
   "execution_count": null,
   "metadata": {},
   "outputs": [],
   "source": [
    "# Check the problem with chrXII\n",
    "\n",
    "# Compute the coverage on chrXII\n",
    "cov = coverage(reads)$chrXII\n",
    "\n",
    "plot(cov, type='l')"
   ]
  },
  {
   "cell_type": "code",
   "execution_count": null,
   "metadata": {},
   "outputs": [],
   "source": [
    "# Get a few quantiles for the coverage of chrXII\n",
    "quantile(cov, probs = c(0.95, 0.96, 0.97, 0.98, 0.99))"
   ]
  },
  {
   "cell_type": "code",
   "execution_count": null,
   "metadata": {},
   "outputs": [],
   "source": [
    "# Let's see which regions have a coverage higher than 2000\n",
    "slice(cov, lower=2000, rangesOnly=TRUE)"
   ]
  },
  {
   "cell_type": "code",
   "execution_count": null,
   "metadata": {},
   "outputs": [],
   "source": [
    "# Create a GRanges object that contains all the problematic regions\n",
    "# Discard the reads from the rDNA region\n",
    "bad_regions = GRanges(seqnames = \"chrXII\",\n",
    "                      ranges = IRanges(start = c(451000, 489000),\n",
    "                                       end   = c(469000, 491000)))\n",
    "bad_read_ind = overlapsAny(reads, bad_regions, ignore.strand=TRUE)\n",
    "reads = reads[!bad_read_ind]"
   ]
  },
  {
   "cell_type": "code",
   "execution_count": null,
   "metadata": {},
   "outputs": [],
   "source": [
    "# Check the number of paired-end reads that were mapped to each chromosome,\n",
    "# after removing the rDNA reads\n",
    "no_of_reads = table(seqnames(reads))\n",
    "chr_lengths = chr_lengths[seqlevels(reads)]\n",
    "no_of_reads_per_bp = no_of_reads / chr_lengths\n",
    "no_of_reads_per_bp"
   ]
  },
  {
   "cell_type": "markdown",
   "metadata": {},
   "source": [
    "After removing the mitochondrial DNA and the problematic regions of `chrXII`, the sequencing depth became much more even (between 1.53 and 1.65)."
   ]
  },
  {
   "cell_type": "code",
   "execution_count": null,
   "metadata": {},
   "outputs": [],
   "source": [
    "# Save the sequencing depth to a csv file\n",
    "write.csv(data.frame(Chrom = names(no_of_reads_per_bp), \n",
    "                     Reads_per_bp = as.vector(no_of_reads_per_bp)),\n",
    "          file = \"Sequencing_depth.MNase_400U.csv\", \n",
    "          row.names = FALSE)"
   ]
  },
  {
   "cell_type": "markdown",
   "metadata": {},
   "source": [
    "Next, we'll check the fragment length distribution."
   ]
  },
  {
   "cell_type": "code",
   "execution_count": null,
   "metadata": {},
   "outputs": [],
   "source": [
    "# Get read lengths. This is done easily using the width accessor (method) of GRanges \n",
    "read_length = width(reads)\n",
    "\n",
    "# Plot a histogram of read lengths\n",
    "h = hist(read_length, breaks = seq(from = 0.5, to = 1000.5, by = 1), plot=TRUE)"
   ]
  },
  {
   "cell_type": "markdown",
   "metadata": {},
   "source": [
    "This plot shows the number of reads that have a given length. Since different samples have different total numbers of reads, it is more convenient to plot the percentage of reads for each length. We'll do this using `ggplot` to create a nicer figure."
   ]
  },
  {
   "cell_type": "code",
   "execution_count": null,
   "metadata": {
    "scrolled": true
   },
   "outputs": [],
   "source": [
    "options(repr.plot.width=3, repr.plot.height=2)\n",
    "df = data.frame(frag_length = h$mids, percentage_of_reads = 100*h$density)\n",
    "p = ggplot(df, aes(x = frag_length, y = percentage_of_reads)) + \n",
    "  geom_line(colour=\"#56B4E9\") +\n",
    "  scale_x_continuous(limits = c(0, 550), expand = c(0, 0), \n",
    "                     breaks = seq(100, 500, 100)) +\n",
    "  scale_y_continuous(expand = c(0, 0)) +\n",
    "  theme_classic() +\n",
    "  xlab(\"Fragment length (bp)\") + \n",
    "  ylab(\"Percentage (%)\")\n",
    "p"
   ]
  },
  {
   "cell_type": "code",
   "execution_count": null,
   "metadata": {},
   "outputs": [],
   "source": [
    "# Save the histogram to a pdf file\n",
    "ggsave(filename = \"Length_histogram.MNase_400U.pdf\", \n",
    "       plot = p, width = 4, height = 3, units = \"in\")"
   ]
  },
  {
   "cell_type": "code",
   "execution_count": null,
   "metadata": {},
   "outputs": [],
   "source": [
    "# Save the histogram to a csv file\n",
    "write.csv(data.frame(Length = h$mids, Percentage = 100*h$density), \n",
    "          file = \"Length_histogram.MNase_400U.csv\", \n",
    "          row.names = FALSE)"
   ]
  },
  {
   "cell_type": "markdown",
   "metadata": {},
   "source": [
    "Next, we will select the nucleosomal reads, with the length close to 150 bp (e.g. reads with the length between 120 bp and 180 bp), and we will analyze the distribution of the corresponding nucleosomes."
   ]
  },
  {
   "cell_type": "code",
   "execution_count": null,
   "metadata": {},
   "outputs": [],
   "source": [
    "# Size selection\n",
    "Lmin = 120\n",
    "Lmax = 180\n",
    "size_filter = ((read_length >= Lmin) & (read_length <= Lmax))\n",
    "reads.120_180 = reads[size_filter]"
   ]
  },
  {
   "cell_type": "code",
   "execution_count": null,
   "metadata": {},
   "outputs": [],
   "source": [
    "# Compute the raw coverage of these reads\n",
    "raw_occ = coverage(reads.120_180)\n",
    "\n",
    "# Compute the average occupancy for each chromosome\n",
    "chr_label = seqlevels(raw_occ)\n",
    "for(chr in chr_label){\n",
    "    cat(sprintf(\"Avg. occ. for %s is %0.3f\\n\", chr, mean(raw_occ[[chr]])))\n",
    "}"
   ]
  },
  {
   "cell_type": "code",
   "execution_count": null,
   "metadata": {},
   "outputs": [],
   "source": [
    "# Get the normalization factor, 1 / avg(occ), for each chromosome\n",
    "occ_norm_factor = list()\n",
    "for(chr in chr_label){\n",
    "    occ_norm_factor[[chr]] = 1/mean(raw_occ[[chr]])\n",
    "}"
   ]
  },
  {
   "cell_type": "code",
   "execution_count": null,
   "metadata": {},
   "outputs": [],
   "source": [
    "# Compute the normalized occupancy (relative to chromosome average)\n",
    "norm_occ = coverage(reads.120_180, weight = occ_norm_factor)"
   ]
  },
  {
   "cell_type": "code",
   "execution_count": null,
   "metadata": {},
   "outputs": [],
   "source": [
    "# Check the averages of the normalized occupancy for each chromosome\n",
    "for(chr in chr_label){\n",
    "    cat(sprintf(\"Avg. occ. for %s is %0.3f\\n\", chr, mean(norm_occ[[chr]])))\n",
    "}"
   ]
  },
  {
   "cell_type": "markdown",
   "metadata": {},
   "source": [
    "Similarly, we can compute the genome-wide distribution of the nucleosome dyads (centers of DNA fragments)."
   ]
  },
  {
   "cell_type": "code",
   "execution_count": null,
   "metadata": {},
   "outputs": [],
   "source": [
    "# Get the centers of all reads\n",
    "dyad_pos.120_180 = resize(reads.120_180, width=1, fix=\"center\")\n",
    "head(dyad_pos.120_180)"
   ]
  },
  {
   "cell_type": "code",
   "execution_count": null,
   "metadata": {},
   "outputs": [],
   "source": [
    "# Stack all dyad positions to construct the raw distribution of dyads\n",
    "raw_dyads = coverage(dyad_pos.120_180)"
   ]
  },
  {
   "cell_type": "code",
   "execution_count": null,
   "metadata": {},
   "outputs": [],
   "source": [
    "# Get the normalization factors for each chromosome\n",
    "dyads_norm_factor = list()\n",
    "for(chr in chr_label){\n",
    "    dyads_norm_factor[[chr]] = 1/mean(raw_dyads[[chr]])\n",
    "}"
   ]
  },
  {
   "cell_type": "code",
   "execution_count": null,
   "metadata": {},
   "outputs": [],
   "source": [
    "# Compute the normalized dyad distribution (relative to chromosome average)\n",
    "norm_dyads = coverage(dyad_pos.120_180, weight = dyads_norm_factor)"
   ]
  },
  {
   "cell_type": "code",
   "execution_count": null,
   "metadata": {},
   "outputs": [],
   "source": [
    "# Check the averages of the normalized dyad distribution for each chromosome\n",
    "for(chr in chr_label){\n",
    "    cat(sprintf(\"Avg. dyad density for %s is %0.3f\\n\", chr, mean(norm_dyads[[chr]])))\n",
    "}"
   ]
  },
  {
   "cell_type": "code",
   "execution_count": null,
   "metadata": {},
   "outputs": [],
   "source": [
    "# Save profiles to BigWig files\n",
    "rtracklayer::export.bw(norm_occ, \"Norm_occ.MNase_400U.120-180.bw\")\n",
    "rtracklayer::export.bw(norm_dyads, \"Norm_dyads.MNase_400U.120-180.bw\")"
   ]
  },
  {
   "cell_type": "markdown",
   "metadata": {},
   "source": [
    "### Visualizations\n",
    "Next we will visualize the nucleosome distribution in different ways. The BigWig files that we created can be loaded in the IGV browser (http://software.broadinstitute.org/software/igv/), but we can also visualize the data directly in R."
   ]
  },
  {
   "cell_type": "markdown",
   "metadata": {},
   "source": [
    "First, let's look at a single genomic locus. Let's look at the _ARG1_ gene (`chrXV:219,211-220,473`)."
   ]
  },
  {
   "cell_type": "code",
   "execution_count": null,
   "metadata": {},
   "outputs": [],
   "source": [
    "# Specify the range to plot\n",
    "chr = \"chrXV\"\n",
    "view_from = 217000\n",
    "view_to = 223000\n",
    "\n",
    "dyadsTrack = DataTrack(\n",
    "    range = \"Norm_dyads.MNase_400U.120-180.bw\",\n",
    "    type = \"l\",\n",
    "    genome = \"sacCer3\",\n",
    "    name = \"Dyads\"\n",
    ")\n",
    "\n",
    "occTrack = DataTrack(\n",
    "    range = \"Norm_occ.MNase_400U.120-180.bw\",\n",
    "    type = \"l\",\n",
    "    genome = \"sacCer3\",\n",
    "    name = \"Occupancy\"\n",
    ")\n",
    "\n",
    "# Gene annotation track\n",
    "txdb = makeTxDbFromUCSC(genome=\"sacCer3\", tablename = \"sgdGene\")\n",
    "genesTrack = GeneRegionTrack(txdb, name=\"Genes\", showId=TRUE)\n",
    "\n",
    "# Genomic coordinate track\n",
    "coordTrack = GenomeAxisTrack()\n",
    "\n",
    "options(repr.plot.width=7, repr.plot.height=4)\n",
    "plotTracks(\n",
    "    list(dyadsTrack, occTrack, genesTrack, coordTrack),\n",
    "    chromosome = \"chrXV\", \n",
    "    from = view_from, to = view_to\n",
    ")"
   ]
  },
  {
   "cell_type": "code",
   "execution_count": null,
   "metadata": {},
   "outputs": [],
   "source": []
  }
 ],
 "metadata": {
  "kernelspec": {
   "display_name": "R 3.5",
   "language": "R",
   "name": "ir35"
  },
  "language_info": {
   "codemirror_mode": "r",
   "file_extension": ".r",
   "mimetype": "text/x-r-source",
   "name": "R",
   "pygments_lexer": "r",
   "version": "3.5.1"
  }
 },
 "nbformat": 4,
 "nbformat_minor": 2
}
