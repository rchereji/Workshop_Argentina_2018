{
 "cells": [
  {
   "cell_type": "markdown",
   "metadata": {},
   "source": [
    "### Running R in Jupyter notebook\n",
    "To run R commands in a Jupyter notebook, you need to install the R kernel for Jupyter. From the terminal (not RStudio or R GUI), launch R (type R and press <return>), and run the following commands:\n",
    "```r\n",
    "install.packages('devtools')\n",
    "devtools::install_github('IRkernel/IRkernel')\n",
    "# If using R 3.5, run\n",
    "IRkernel::installspec(name = 'ir35', displayname = 'R 3.5')\n",
    "# otherwise, change 3.5 to the version of R that is installed on your computer\n",
    "```"
   ]
  },
  {
   "cell_type": "markdown",
   "metadata": {},
   "source": [
    "### IRanges\n",
    "The `IRanges` package provides an efficient infrastructure for manipulating intervals/ranges of integers. This package is available on Bioconductor:  \n",
    "https://bioconductor.org/packages/release/bioc/html/IRanges.html"
   ]
  },
  {
   "cell_type": "markdown",
   "metadata": {},
   "source": [
    "To install this package, start R and enter:\n",
    "\n",
    "```r\n",
    "if (!requireNamespace(\"BiocManager\", quietly = TRUE))  \n",
    "    install.packages(\"BiocManager\")  \n",
    "BiocManager::install(\"IRanges\", version = \"3.8\")\n",
    "```"
   ]
  },
  {
   "cell_type": "code",
   "execution_count": 1,
   "metadata": {},
   "outputs": [],
   "source": [
    "# Load the IRanges package \n",
    "suppressMessages(library(IRanges))"
   ]
  },
  {
   "cell_type": "markdown",
   "metadata": {},
   "source": [
    "`IRanges` are simple intervals that are defined by three parameters:\n",
    "- start\n",
    "- end\n",
    "- width\n",
    "\n",
    "To create an `IRanges` object, specify at least two of the above three parameters."
   ]
  },
  {
   "cell_type": "code",
   "execution_count": 2,
   "metadata": {},
   "outputs": [
    {
     "data": {
      "text/plain": [
       "IRanges object with 4 ranges and 0 metadata columns:\n",
       "          start       end     width\n",
       "      <integer> <integer> <integer>\n",
       "  [1]         1        10        10\n",
       "  [2]         5        15        11\n",
       "  [3]         8        20        13\n",
       "  [4]        25        30         6"
      ]
     },
     "metadata": {},
     "output_type": "display_data"
    }
   ],
   "source": [
    "# Construct IRanges by specifying the start and width of each interval\n",
    "ir = IRanges(start=c( 1,  5,  8, 25),\n",
    "             width=c(10, 11, 13,  6))\n",
    "ir"
   ]
  },
  {
   "cell_type": "code",
   "execution_count": 3,
   "metadata": {},
   "outputs": [
    {
     "data": {
      "text/plain": [
       "IRanges object with 3 ranges and 0 metadata columns:\n",
       "          start       end     width\n",
       "      <integer> <integer> <integer>\n",
       "  [1]         1        10        10\n",
       "  [2]         2        10         9\n",
       "  [3]         3        10         8"
      ]
     },
     "metadata": {},
     "output_type": "display_data"
    }
   ],
   "source": [
    "# Construct IRanges by specifying the start and the end of each interval\n",
    "ir2 = IRanges(start=1:3, end=10)\n",
    "ir2"
   ]
  },
  {
   "cell_type": "code",
   "execution_count": 4,
   "metadata": {},
   "outputs": [
    {
     "data": {
      "text/plain": [
       "IRanges object with 3 ranges and 0 metadata columns:\n",
       "          start       end     width\n",
       "      <integer> <integer> <integer>\n",
       "  [1]         1        10        10\n",
       "  [2]         2        10         9\n",
       "  [3]         3        10         8"
      ]
     },
     "metadata": {},
     "output_type": "display_data"
    }
   ],
   "source": [
    "ir3 = IRanges(end=10, width=10:8)\n",
    "ir3"
   ]
  },
  {
   "cell_type": "markdown",
   "metadata": {},
   "source": [
    "The properties of the intervals can be accessed using the `start()`, `end()` and `width()` methods."
   ]
  },
  {
   "cell_type": "code",
   "execution_count": 5,
   "metadata": {},
   "outputs": [
    {
     "data": {
      "text/plain": [
       "IRanges object with 4 ranges and 0 metadata columns:\n",
       "          start       end     width\n",
       "      <integer> <integer> <integer>\n",
       "  [1]         1        10        10\n",
       "  [2]         5        15        11\n",
       "  [3]         8        20        13\n",
       "  [4]        25        30         6"
      ]
     },
     "metadata": {},
     "output_type": "display_data"
    }
   ],
   "source": [
    "# Example IRanges\n",
    "ir"
   ]
  },
  {
   "cell_type": "code",
   "execution_count": 6,
   "metadata": {},
   "outputs": [
    {
     "data": {
      "text/html": [
       "<ol class=list-inline>\n",
       "\t<li>1</li>\n",
       "\t<li>5</li>\n",
       "\t<li>8</li>\n",
       "\t<li>25</li>\n",
       "</ol>\n"
      ],
      "text/latex": [
       "\\begin{enumerate*}\n",
       "\\item 1\n",
       "\\item 5\n",
       "\\item 8\n",
       "\\item 25\n",
       "\\end{enumerate*}\n"
      ],
      "text/markdown": [
       "1. 1\n",
       "2. 5\n",
       "3. 8\n",
       "4. 25\n",
       "\n",
       "\n"
      ],
      "text/plain": [
       "[1]  1  5  8 25"
      ]
     },
     "metadata": {},
     "output_type": "display_data"
    }
   ],
   "source": [
    "# Get the start positions of all ranges\n",
    "start(ir)"
   ]
  },
  {
   "cell_type": "code",
   "execution_count": 7,
   "metadata": {},
   "outputs": [
    {
     "data": {
      "text/html": [
       "<ol class=list-inline>\n",
       "\t<li>10</li>\n",
       "\t<li>15</li>\n",
       "\t<li>20</li>\n",
       "\t<li>30</li>\n",
       "</ol>\n"
      ],
      "text/latex": [
       "\\begin{enumerate*}\n",
       "\\item 10\n",
       "\\item 15\n",
       "\\item 20\n",
       "\\item 30\n",
       "\\end{enumerate*}\n"
      ],
      "text/markdown": [
       "1. 10\n",
       "2. 15\n",
       "3. 20\n",
       "4. 30\n",
       "\n",
       "\n"
      ],
      "text/plain": [
       "[1] 10 15 20 30"
      ]
     },
     "metadata": {},
     "output_type": "display_data"
    }
   ],
   "source": [
    "# Get the end positions of all ranges\n",
    "end(ir)"
   ]
  },
  {
   "cell_type": "code",
   "execution_count": 8,
   "metadata": {},
   "outputs": [
    {
     "data": {
      "text/html": [
       "<ol class=list-inline>\n",
       "\t<li>10</li>\n",
       "\t<li>11</li>\n",
       "\t<li>13</li>\n",
       "\t<li>6</li>\n",
       "</ol>\n"
      ],
      "text/latex": [
       "\\begin{enumerate*}\n",
       "\\item 10\n",
       "\\item 11\n",
       "\\item 13\n",
       "\\item 6\n",
       "\\end{enumerate*}\n"
      ],
      "text/markdown": [
       "1. 10\n",
       "2. 11\n",
       "3. 13\n",
       "4. 6\n",
       "\n",
       "\n"
      ],
      "text/plain": [
       "[1] 10 11 13  6"
      ]
     },
     "metadata": {},
     "output_type": "display_data"
    }
   ],
   "source": [
    "# Get the widths of all ranges\n",
    "width(ir)"
   ]
  },
  {
   "cell_type": "markdown",
   "metadata": {},
   "source": [
    "In order to illustrate range operations, we’ll create a function to plot ranges."
   ]
  },
  {
   "cell_type": "code",
   "execution_count": 9,
   "metadata": {},
   "outputs": [],
   "source": [
    "plotRanges = function(x, xlim=x, main=deparse(substitute(x)), col=\"gray\", sep=0.5, ...){\n",
    "  height = 1\n",
    "  if (is(xlim, \"IntegerRanges\")) \n",
    "    xlim = c(min(start(xlim)), max(end(xlim)))\n",
    "  bins = disjointBins(IRanges(start(x), end(x) + 1))\n",
    "  plot.new()\n",
    "  plot.window(xlim, c(0, max(bins)*(height + sep)))\n",
    "  ybottom = bins * (sep + height) - height\n",
    "  rect(start(x)-0.5, ybottom, end(x)+0.5, ybottom + height, col=col, ...)\n",
    "  title(main)\n",
    "  axis(1)\n",
    "}\n",
    "    \n",
    "# Change plot size to 4in x 2.5in\n",
    "library(repr)\n",
    "options(repr.plot.width=4, repr.plot.height=2.5)"
   ]
  },
  {
   "cell_type": "code",
   "execution_count": 10,
   "metadata": {},
   "outputs": [
    {
     "data": {
      "text/plain": [
       "IRanges object with 4 ranges and 0 metadata columns:\n",
       "          start       end     width\n",
       "      <integer> <integer> <integer>\n",
       "  [1]         1        10        10\n",
       "  [2]         5        15        11\n",
       "  [3]         8        20        13\n",
       "  [4]        25        30         6"
      ]
     },
     "metadata": {},
     "output_type": "display_data"
    },
    {
     "data": {
      "image/png": "[encoded data removed]",
      "text/plain": [
       "Plot with title “ir”"
      ]
     },
     "metadata": {},
     "output_type": "display_data"
    }
   ],
   "source": [
    "# Print IRanges and plot the corresponding intervals\n",
    "ir\n",
    "plotRanges(ir)"
   ]
  },
  {
   "cell_type": "markdown",
   "metadata": {},
   "source": [
    "### Operations with IRanges\n",
    "There are many operations that can be applied to IRanges (see https://bioconductor.org/packages/release/bioc/vignettes/IRanges/inst/doc/IRangesOverview.pdf). The operations that are most useful for us are explained below."
   ]
  },
  {
   "cell_type": "code",
   "execution_count": 11,
   "metadata": {},
   "outputs": [
    {
     "data": {
      "text/plain": [
       "IRanges object with 2 ranges and 0 metadata columns:\n",
       "          start       end     width\n",
       "      <integer> <integer> <integer>\n",
       "  [1]         1        20        20\n",
       "  [2]        25        30         6"
      ]
     },
     "metadata": {},
     "output_type": "display_data"
    }
   ],
   "source": [
    "# Merging redundant ranges\n",
    "\n",
    "# The function reduce() merges all IRanges into non-overlapping intervals\n",
    "reduce(ir)"
   ]
  },
  {
   "cell_type": "code",
   "execution_count": 12,
   "metadata": {},
   "outputs": [
    {
     "data": {
      "image/png": "[encoded data removed]",
      "text/plain": [
       "Plot with title “reduce(ir)”"
      ]
     },
     "metadata": {},
     "output_type": "display_data"
    }
   ],
   "source": [
    "# Plot the result of reduce()\n",
    "options(repr.plot.width=4, repr.plot.height=3)\n",
    "par(mfrow=c(2,1), mar=c(2, 4, 1, 1) + 0.1)\n",
    "plotRanges(ir)\n",
    "plotRanges(reduce(ir))"
   ]
  },
  {
   "cell_type": "code",
   "execution_count": 13,
   "metadata": {},
   "outputs": [
    {
     "data": {
      "text/plain": [
       "integer-Rle of length 30 with 7 runs\n",
       "  Lengths: 4 3 3 5 5 4 6\n",
       "  Values : 1 2 3 2 1 0 1"
      ]
     },
     "metadata": {},
     "output_type": "display_data"
    }
   ],
   "source": [
    "# Counting overlapping ranges \n",
    "# (i.e. computing the coverage/occupancy of all ranges)\n",
    "\n",
    "# The function coverage() counts the number of ranges over each position.\n",
    "cov = coverage(ir)\n",
    "cov"
   ]
  },
  {
   "cell_type": "markdown",
   "metadata": {},
   "source": [
    "**Note:** The coverage is stored using the run-length encoding (Rle) format.  \n",
    "One can convert this into an ordinary R vector using the `as.vector()` function."
   ]
  },
  {
   "cell_type": "code",
   "execution_count": 14,
   "metadata": {},
   "outputs": [
    {
     "data": {
      "text/html": [
       "<ol class=list-inline>\n",
       "\t<li>1</li>\n",
       "\t<li>1</li>\n",
       "\t<li>1</li>\n",
       "\t<li>1</li>\n",
       "\t<li>2</li>\n",
       "\t<li>2</li>\n",
       "\t<li>2</li>\n",
       "\t<li>3</li>\n",
       "\t<li>3</li>\n",
       "\t<li>3</li>\n",
       "\t<li>2</li>\n",
       "\t<li>2</li>\n",
       "\t<li>2</li>\n",
       "\t<li>2</li>\n",
       "\t<li>2</li>\n",
       "\t<li>1</li>\n",
       "\t<li>1</li>\n",
       "\t<li>1</li>\n",
       "\t<li>1</li>\n",
       "\t<li>1</li>\n",
       "\t<li>0</li>\n",
       "\t<li>0</li>\n",
       "\t<li>0</li>\n",
       "\t<li>0</li>\n",
       "\t<li>1</li>\n",
       "\t<li>1</li>\n",
       "\t<li>1</li>\n",
       "\t<li>1</li>\n",
       "\t<li>1</li>\n",
       "\t<li>1</li>\n",
       "</ol>\n"
      ],
      "text/latex": [
       "\\begin{enumerate*}\n",
       "\\item 1\n",
       "\\item 1\n",
       "\\item 1\n",
       "\\item 1\n",
       "\\item 2\n",
       "\\item 2\n",
       "\\item 2\n",
       "\\item 3\n",
       "\\item 3\n",
       "\\item 3\n",
       "\\item 2\n",
       "\\item 2\n",
       "\\item 2\n",
       "\\item 2\n",
       "\\item 2\n",
       "\\item 1\n",
       "\\item 1\n",
       "\\item 1\n",
       "\\item 1\n",
       "\\item 1\n",
       "\\item 0\n",
       "\\item 0\n",
       "\\item 0\n",
       "\\item 0\n",
       "\\item 1\n",
       "\\item 1\n",
       "\\item 1\n",
       "\\item 1\n",
       "\\item 1\n",
       "\\item 1\n",
       "\\end{enumerate*}\n"
      ],
      "text/markdown": [
       "1. 1\n",
       "2. 1\n",
       "3. 1\n",
       "4. 1\n",
       "5. 2\n",
       "6. 2\n",
       "7. 2\n",
       "8. 3\n",
       "9. 3\n",
       "10. 3\n",
       "11. 2\n",
       "12. 2\n",
       "13. 2\n",
       "14. 2\n",
       "15. 2\n",
       "16. 1\n",
       "17. 1\n",
       "18. 1\n",
       "19. 1\n",
       "20. 1\n",
       "21. 0\n",
       "22. 0\n",
       "23. 0\n",
       "24. 0\n",
       "25. 1\n",
       "26. 1\n",
       "27. 1\n",
       "28. 1\n",
       "29. 1\n",
       "30. 1\n",
       "\n",
       "\n"
      ],
      "text/plain": [
       " [1] 1 1 1 1 2 2 2 3 3 3 2 2 2 2 2 1 1 1 1 1 0 0 0 0 1 1 1 1 1 1"
      ]
     },
     "metadata": {},
     "output_type": "display_data"
    }
   ],
   "source": [
    "as.vector(cov)"
   ]
  },
  {
   "cell_type": "code",
   "execution_count": 15,
   "metadata": {},
   "outputs": [
    {
     "data": {
      "image/png": "[encoded data removed]",
      "text/plain": [
       "Plot with title “ir”"
      ]
     },
     "metadata": {},
     "output_type": "display_data"
    }
   ],
   "source": [
    "# Plot the result of coverage()\n",
    "options(repr.plot.width=4, repr.plot.height=3)\n",
    "par(mfrow=c(2,1), mar=c(2, 4, 1, 1) + 0.1)\n",
    "plotRanges(ir)\n",
    "cov = as.vector(cov)\n",
    "plot(seq(1:length(cov)), cov, type='h', col=\"red\", lwd=10, lend=1,\n",
    "     xlab=\"Position\", ylab=\"Coverage\", bty=\"n\")"
   ]
  },
  {
   "cell_type": "code",
   "execution_count": 16,
   "metadata": {},
   "outputs": [
    {
     "data": {
      "text/plain": [
       "IRanges object with 3 ranges and 0 metadata columns:\n",
       "          start       end     width\n",
       "      <integer> <integer> <integer>\n",
       "  [1]         1         3         3\n",
       "  [2]         5         7         3\n",
       "  [3]         9        11         3"
      ]
     },
     "metadata": {},
     "output_type": "display_data"
    }
   ],
   "source": [
    "# Resizing\n",
    "\n",
    "# Example IRanges\n",
    "ir = IRanges(start=c(1, 5, 9), width=3)\n",
    "ir"
   ]
  },
  {
   "cell_type": "code",
   "execution_count": 17,
   "metadata": {},
   "outputs": [
    {
     "data": {
      "text/plain": [
       "IRanges object with 3 ranges and 0 metadata columns:\n",
       "          start       end     width\n",
       "      <integer> <integer> <integer>\n",
       "  [1]         1         1         1\n",
       "  [2]         5         5         1\n",
       "  [3]         9         9         1"
      ]
     },
     "metadata": {},
     "output_type": "display_data"
    }
   ],
   "source": [
    "# We can resize the ranges to have a new width, by keeping fix the start, \n",
    "# end, or center of the original intervals\n",
    "\n",
    "# Resize to width 1, keeping the left end fixed\n",
    "resize(ir, width=1, fix=\"start\")"
   ]
  },
  {
   "cell_type": "code",
   "execution_count": 18,
   "metadata": {},
   "outputs": [
    {
     "data": {
      "text/plain": [
       "IRanges object with 3 ranges and 0 metadata columns:\n",
       "          start       end     width\n",
       "      <integer> <integer> <integer>\n",
       "  [1]         3         3         1\n",
       "  [2]         7         7         1\n",
       "  [3]        11        11         1"
      ]
     },
     "metadata": {},
     "output_type": "display_data"
    }
   ],
   "source": [
    "# Resize to width 1, keeping the right end fixed\n",
    "resize(ir, width=1, fix=\"end\")"
   ]
  },
  {
   "cell_type": "code",
   "execution_count": 19,
   "metadata": {},
   "outputs": [
    {
     "data": {
      "text/plain": [
       "IRanges object with 3 ranges and 0 metadata columns:\n",
       "          start       end     width\n",
       "      <integer> <integer> <integer>\n",
       "  [1]         2         2         1\n",
       "  [2]         6         6         1\n",
       "  [3]        10        10         1"
      ]
     },
     "metadata": {},
     "output_type": "display_data"
    }
   ],
   "source": [
    "# Resize to width 1, keeping the center fixed\n",
    "resize(ir, width=1, fix=\"center\")"
   ]
  },
  {
   "cell_type": "code",
   "execution_count": 20,
   "metadata": {
    "scrolled": false
   },
   "outputs": [
    {
     "data": {
      "image/png": "[encoded data removed]",
      "text/plain": [
       "Plot with title “resize(ir, width = 1, fix = \"end\")”"
      ]
     },
     "metadata": {},
     "output_type": "display_data"
    }
   ],
   "source": [
    "# Plot the results of the resize operations\n",
    "options(repr.plot.width=4, repr.plot.height=3)\n",
    "par(mfrow=c(4,1), mar=c(2, 4, 2, 1) + 0.1)\n",
    "plotRanges(ir, xlim=c(0,12))\n",
    "plotRanges(resize(ir, width=1, fix=\"start\"), xlim=c(0,12))\n",
    "plotRanges(resize(ir, width=1, fix=\"center\"), xlim=c(0,12))\n",
    "plotRanges(resize(ir, width=1, fix=\"end\"), xlim=c(0,12))"
   ]
  },
  {
   "cell_type": "markdown",
   "metadata": {},
   "source": [
    "More info on `IRanges`:\n",
    "https://bioconductor.org/packages/release/bioc/vignettes/IRanges/inst/doc/IRangesOverview.pdf"
   ]
  },
  {
   "cell_type": "markdown",
   "metadata": {},
   "source": [
    "### GRanges\n",
    "The `GenomicRanges` package provides the `GRanges` class that allows manipulation of genomic ranges.  \n",
    "https://bioconductor.org/packages/release/bioc/html/GenomicRanges.html"
   ]
  },
  {
   "cell_type": "markdown",
   "metadata": {},
   "source": [
    "To install this package, run the following commands in R:\n",
    "\n",
    "```r\n",
    "if (!requireNamespace(\"BiocManager\", quietly = TRUE))\n",
    "    install.packages(\"BiocManager\")\n",
    "BiocManager::install(\"GenomicRanges\", version = \"3.8\")\n",
    "```"
   ]
  },
  {
   "cell_type": "code",
   "execution_count": 21,
   "metadata": {},
   "outputs": [],
   "source": [
    "# Load the GenomicRanges package\n",
    "suppressMessages(library(GenomicRanges))"
   ]
  },
  {
   "cell_type": "markdown",
   "metadata": {},
   "source": [
    "The `GRanges` class represents a collection of genomic ranges. Each genomic range is characterized by a chromosome name, a start and end location, and a strand. This class can be used to store the location of genomic features such as genes, transcripts, and binding sites. Genomic ranges can be created by using the `GRanges` constructor."
   ]
  },
  {
   "cell_type": "code",
   "execution_count": 22,
   "metadata": {},
   "outputs": [
    {
     "data": {
      "text/plain": [
       "GRanges object with 3 ranges and 0 metadata columns:\n",
       "      seqnames    ranges strand\n",
       "         <Rle> <IRanges>  <Rle>\n",
       "  [1]     chr1       1-5      +\n",
       "  [2]     chr2       3-7      -\n",
       "  [3]     chr3       5-9      +\n",
       "  -------\n",
       "  seqinfo: 3 sequences from an unspecified genome; no seqlengths"
      ]
     },
     "metadata": {},
     "output_type": "display_data"
    }
   ],
   "source": [
    "# Construct a GRanges object\n",
    "gr = GRanges(\n",
    "    seqnames = c(\"chr1\", \"chr2\", \"chr3\"),\n",
    "    ranges = IRanges(start = c(1, 3, 5), width = 5),\n",
    "    strand = c(\"+\", \"-\", \"+\"))\n",
    "gr"
   ]
  },
  {
   "cell_type": "code",
   "execution_count": 23,
   "metadata": {},
   "outputs": [
    {
     "data": {
      "text/plain": [
       "RleList of length 3\n",
       "$chr1\n",
       "integer-Rle of length 5 with 1 run\n",
       "  Lengths: 5\n",
       "  Values : 1\n",
       "\n",
       "$chr2\n",
       "integer-Rle of length 7 with 2 runs\n",
       "  Lengths: 2 5\n",
       "  Values : 0 1\n",
       "\n",
       "$chr3\n",
       "integer-Rle of length 9 with 2 runs\n",
       "  Lengths: 4 5\n",
       "  Values : 0 1\n"
      ]
     },
     "metadata": {},
     "output_type": "display_data"
    }
   ],
   "source": [
    "# Occupancy of GRanges is computed using the coverage() method\n",
    "cov = coverage(gr)\n",
    "cov"
   ]
  },
  {
   "cell_type": "code",
   "execution_count": 24,
   "metadata": {},
   "outputs": [
    {
     "data": {
      "text/html": [
       "<ol class=list-inline>\n",
       "\t<li>0</li>\n",
       "\t<li>0</li>\n",
       "\t<li>0</li>\n",
       "\t<li>0</li>\n",
       "\t<li>1</li>\n",
       "\t<li>1</li>\n",
       "\t<li>1</li>\n",
       "\t<li>1</li>\n",
       "\t<li>1</li>\n",
       "</ol>\n"
      ],
      "text/latex": [
       "\\begin{enumerate*}\n",
       "\\item 0\n",
       "\\item 0\n",
       "\\item 0\n",
       "\\item 0\n",
       "\\item 1\n",
       "\\item 1\n",
       "\\item 1\n",
       "\\item 1\n",
       "\\item 1\n",
       "\\end{enumerate*}\n"
      ],
      "text/markdown": [
       "1. 0\n",
       "2. 0\n",
       "3. 0\n",
       "4. 0\n",
       "5. 1\n",
       "6. 1\n",
       "7. 1\n",
       "8. 1\n",
       "9. 1\n",
       "\n",
       "\n"
      ],
      "text/plain": [
       "[1] 0 0 0 0 1 1 1 1 1"
      ]
     },
     "metadata": {},
     "output_type": "display_data"
    }
   ],
   "source": [
    "# Show coverage of chr3 as a normal vector\n",
    "as.vector(cov$chr3)"
   ]
  },
  {
   "cell_type": "code",
   "execution_count": 25,
   "metadata": {},
   "outputs": [
    {
     "data": {
      "text/plain": [
       "GRanges object with 3 ranges and 0 metadata columns:\n",
       "      seqnames    ranges strand\n",
       "         <Rle> <IRanges>  <Rle>\n",
       "  [1]     chr1       1-5      +\n",
       "  [2]     chr2       3-7      -\n",
       "  [3]     chr3       5-9      +\n",
       "  -------\n",
       "  seqinfo: 3 sequences from an unspecified genome; no seqlengths"
      ]
     },
     "metadata": {},
     "output_type": "display_data"
    },
    {
     "data": {
      "text/plain": [
       "GRanges object with 3 ranges and 0 metadata columns:\n",
       "      seqnames    ranges strand\n",
       "         <Rle> <IRanges>  <Rle>\n",
       "  [1]     chr1         3      +\n",
       "  [2]     chr2         5      -\n",
       "  [3]     chr3         7      +\n",
       "  -------\n",
       "  seqinfo: 3 sequences from an unspecified genome; no seqlengths"
      ]
     },
     "metadata": {},
     "output_type": "display_data"
    }
   ],
   "source": [
    "# GRanges can also be resized\n",
    "# Resize to width 1 and keep the center fixed\n",
    "gr\n",
    "resize(gr, width=1, fix=\"center\")"
   ]
  },
  {
   "cell_type": "code",
   "execution_count": 26,
   "metadata": {},
   "outputs": [
    {
     "data": {
      "text/plain": [
       "GRanges object with 3 ranges and 0 metadata columns:\n",
       "      seqnames    ranges strand\n",
       "         <Rle> <IRanges>  <Rle>\n",
       "  [1]     chr1       1-5      +\n",
       "  [2]     chr2       3-7      -\n",
       "  [3]     chr3       5-9      +\n",
       "  -------\n",
       "  seqinfo: 3 sequences from an unspecified genome; no seqlengths"
      ]
     },
     "metadata": {},
     "output_type": "display_data"
    },
    {
     "data": {
      "text/plain": [
       "GRanges object with 3 ranges and 0 metadata columns:\n",
       "      seqnames    ranges strand\n",
       "         <Rle> <IRanges>  <Rle>\n",
       "  [1]     chr1         1      +\n",
       "  [2]     chr2         7      -\n",
       "  [3]     chr3         5      +\n",
       "  -------\n",
       "  seqinfo: 3 sequences from an unspecified genome; no seqlengths"
      ]
     },
     "metadata": {},
     "output_type": "display_data"
    }
   ],
   "source": [
    "# When we resize the GRanges and keep the \"start\" fixed \n",
    "# we observe something interesting\n",
    "gr\n",
    "resize(gr, width=1, fix=\"start\")"
   ]
  },
  {
   "cell_type": "markdown",
   "metadata": {
    "collapsed": true
   },
   "source": [
    "When resizing `GRanges`, fix=\"start\" indicates that the 5' end of the interval will remain fixed (not necessarily the left end)."
   ]
  },
  {
   "cell_type": "code",
   "execution_count": 27,
   "metadata": {},
   "outputs": [
    {
     "data": {
      "text/plain": [
       "GRanges object with 3 ranges and 0 metadata columns:\n",
       "      seqnames    ranges strand\n",
       "         <Rle> <IRanges>  <Rle>\n",
       "  [1]     chr1       1-5      +\n",
       "  [2]     chr2       3-7      -\n",
       "  [3]     chr3       5-9      +\n",
       "  -------\n",
       "  seqinfo: 3 sequences from an unspecified genome; no seqlengths"
      ]
     },
     "metadata": {},
     "output_type": "display_data"
    },
    {
     "data": {
      "text/plain": [
       "GRanges object with 3 ranges and 0 metadata columns:\n",
       "      seqnames    ranges strand\n",
       "         <Rle> <IRanges>  <Rle>\n",
       "  [1]     chr1         5      +\n",
       "  [2]     chr2         3      -\n",
       "  [3]     chr3         9      +\n",
       "  -------\n",
       "  seqinfo: 3 sequences from an unspecified genome; no seqlengths"
      ]
     },
     "metadata": {},
     "output_type": "display_data"
    }
   ],
   "source": [
    "# Similarly, we can keep the 3' end fixed, by using the option fix=\"end\"\n",
    "gr\n",
    "resize(gr, width=1, fix=\"end\")"
   ]
  },
  {
   "cell_type": "markdown",
   "metadata": {},
   "source": [
    "More info about `GRanges` can be found here: https://bioconductor.org/packages/release/bioc/vignettes/GenomicRanges/inst/doc/GenomicRangesIntroduction.html\n",
    "\n",
    "Next we will use `GRanges` to illustrate the typical steps in a basic analysis of MNase-seq data."
   ]
  },
  {
   "cell_type": "markdown",
   "metadata": {},
   "source": [
    "### MNase-seq data analysis\n",
    "For this we will use a few extra R packages. To install the necessary R packages, run the following commands in R:\n",
    "```r\n",
    "# To install the required Bioconductor packages, run:\n",
    "if (!requireNamespace(\"BiocManager\", quietly = TRUE))\n",
    "    install.packages(\"BiocManager\")\n",
    "BiocManager::install(\n",
    "    c(\"genomation\", \"Gviz\", \"GenomicFeatures\", \"Rsamtools\", \"rtracklayer\"))\n",
    "\n",
    "# To install other packages used in this workshop, run:\n",
    "install.packages(\"ggplot2\")\n",
    "install.packages(\"pryr\")\n",
    "install.packages(\"RMariaDB\")\n",
    "```"
   ]
  },
  {
   "cell_type": "code",
   "execution_count": 28,
   "metadata": {},
   "outputs": [],
   "source": [
    "# Load the necessary packages\n",
    "suppressMessages({\n",
    "    library(genomation)\n",
    "    library(Gviz)\n",
    "    library(GenomicFeatures)\n",
    "    library(Rsamtools)\n",
    "    library(rtracklayer)\n",
    "    library(ggplot2)\n",
    "    library(pryr)\n",
    "})"
   ]
  },
  {
   "cell_type": "markdown",
   "metadata": {},
   "source": [
    "First, we need to read the aligned reads from a `bam` file."
   ]
  },
  {
   "cell_type": "code",
   "execution_count": 29,
   "metadata": {},
   "outputs": [
    {
     "name": "stdout",
     "output_type": "stream",
     "text": [
      "[1] \"bam_files//SRR3649298.sorted.bam\" \"bam_files//test.bam\"             \n",
      "[3] \"bam_files//test.sorted.bam\"      \n"
     ]
    }
   ],
   "source": [
    "# List all bam files from our bam folder\n",
    "all_bam_files = list.files(\"bam_files/\", pattern = \".bam$\", full.names = TRUE)\n",
    "print(all_bam_files)"
   ]
  },
  {
   "cell_type": "code",
   "execution_count": 30,
   "metadata": {},
   "outputs": [],
   "source": [
    "# Load one of the bam files\n",
    "bam_file = Rsamtools::BamFile('bam_files/SRR3649298.sorted.bam')"
   ]
  },
  {
   "cell_type": "code",
   "execution_count": 31,
   "metadata": {},
   "outputs": [
    {
     "data": {
      "text/html": [
       "<ol class=list-inline>\n",
       "\t<li>'qname'</li>\n",
       "\t<li>'flag'</li>\n",
       "\t<li>'rname'</li>\n",
       "\t<li>'strand'</li>\n",
       "\t<li>'pos'</li>\n",
       "\t<li>'qwidth'</li>\n",
       "\t<li>'mapq'</li>\n",
       "\t<li>'cigar'</li>\n",
       "\t<li>'mrnm'</li>\n",
       "\t<li>'mpos'</li>\n",
       "\t<li>'isize'</li>\n",
       "\t<li>'seq'</li>\n",
       "\t<li>'qual'</li>\n",
       "\t<li>'groupid'</li>\n",
       "\t<li>'mate_status'</li>\n",
       "</ol>\n"
      ],
      "text/latex": [
       "\\begin{enumerate*}\n",
       "\\item 'qname'\n",
       "\\item 'flag'\n",
       "\\item 'rname'\n",
       "\\item 'strand'\n",
       "\\item 'pos'\n",
       "\\item 'qwidth'\n",
       "\\item 'mapq'\n",
       "\\item 'cigar'\n",
       "\\item 'mrnm'\n",
       "\\item 'mpos'\n",
       "\\item 'isize'\n",
       "\\item 'seq'\n",
       "\\item 'qual'\n",
       "\\item 'groupid'\n",
       "\\item 'mate\\_status'\n",
       "\\end{enumerate*}\n"
      ],
      "text/markdown": [
       "1. 'qname'\n",
       "2. 'flag'\n",
       "3. 'rname'\n",
       "4. 'strand'\n",
       "5. 'pos'\n",
       "6. 'qwidth'\n",
       "7. 'mapq'\n",
       "8. 'cigar'\n",
       "9. 'mrnm'\n",
       "10. 'mpos'\n",
       "11. 'isize'\n",
       "12. 'seq'\n",
       "13. 'qual'\n",
       "14. 'groupid'\n",
       "15. 'mate_status'\n",
       "\n",
       "\n"
      ],
      "text/plain": [
       " [1] \"qname\"       \"flag\"        \"rname\"       \"strand\"      \"pos\"        \n",
       " [6] \"qwidth\"      \"mapq\"        \"cigar\"       \"mrnm\"        \"mpos\"       \n",
       "[11] \"isize\"       \"seq\"         \"qual\"        \"groupid\"     \"mate_status\""
      ]
     },
     "metadata": {},
     "output_type": "display_data"
    }
   ],
   "source": [
    "# Fields that are stored and can be imported from a bam file: \n",
    "scanBamWhat()"
   ]
  },
  {
   "cell_type": "markdown",
   "metadata": {},
   "source": [
    "For now we will only need the following info:\n",
    "   - qname - read (query) name\n",
    "   - rname - reference (chromosome) name \n",
    "   - strand\n",
    "   - pos   - start position of the read\n",
    "   - isize - full length of the paired-end read"
   ]
  },
  {
   "cell_type": "code",
   "execution_count": 32,
   "metadata": {},
   "outputs": [],
   "source": [
    "# Import selected fields from the bam file\n",
    "fields_to_load = c(\"qname\", \"rname\", \"strand\", \"pos\", \"isize\")\n",
    "param = ScanBamParam(what = fields_to_load)\n",
    "aln = scanBam(bam_file, param = param)"
   ]
  },
  {
   "cell_type": "code",
   "execution_count": 33,
   "metadata": {},
   "outputs": [
    {
     "name": "stdout",
     "output_type": "stream",
     "text": [
      "List of 1\n",
      " $ :List of 5\n",
      "  ..$ qname : chr [1:20736288] \"SRR3649298.4581098\" \"SRR3649298.4402766\" \"SRR3649298.8910767\" \"SRR3649298.6870098\" ...\n",
      "  ..$ rname : Factor w/ 17 levels \"chrI\",\"chrII\",..: 1 1 1 1 1 1 1 1 1 1 ...\n",
      "  ..$ strand: Factor w/ 3 levels \"+\",\"-\",\"*\": 1 1 1 1 1 1 2 1 1 1 ...\n",
      "  ..$ pos   : int [1:20736288] 2 4 4 6 6 7 11 12 13 13 ...\n",
      "  ..$ isize : int [1:20736288] 61 59 57 57 57 75 -57 56 66 66 ...\n"
     ]
    }
   ],
   "source": [
    "# Check the structure of the aln object\n",
    "str(aln)"
   ]
  },
  {
   "cell_type": "code",
   "execution_count": 34,
   "metadata": {},
   "outputs": [],
   "source": [
    "# Let's subset the first element (all the information is in there)\n",
    "aln = aln[[1]]"
   ]
  },
  {
   "cell_type": "code",
   "execution_count": 35,
   "metadata": {},
   "outputs": [
    {
     "data": {
      "text/html": [
       "20736288"
      ],
      "text/latex": [
       "20736288"
      ],
      "text/markdown": [
       "20736288"
      ],
      "text/plain": [
       "[1] 20736288"
      ]
     },
     "metadata": {},
     "output_type": "display_data"
    }
   ],
   "source": [
    "# Get the total number of reads\n",
    "length(aln$qname)"
   ]
  },
  {
   "cell_type": "markdown",
   "metadata": {},
   "source": [
    "There are about 20 million reads, corresponding to about 10 million pairs (paired-end reads)."
   ]
  },
  {
   "cell_type": "code",
   "execution_count": 36,
   "metadata": {},
   "outputs": [
    {
     "data": {
      "text/plain": [
       "GRanges object with 10340584 ranges and 0 metadata columns:\n",
       "             seqnames        ranges strand\n",
       "                <Rle>     <IRanges>  <Rle>\n",
       "         [1]     chrI          2-62      *\n",
       "         [2]     chrI          4-62      *\n",
       "         [3]     chrI          4-60      *\n",
       "         [4]     chrI          6-62      *\n",
       "         [5]     chrI          6-62      *\n",
       "         ...      ...           ...    ...\n",
       "  [10340580]   chrXVI 947931-947997      *\n",
       "  [10340581]   chrXVI 947969-948033      *\n",
       "  [10340582]   chrXVI 947979-948062      *\n",
       "  [10340583]   chrXVI 947989-948039      *\n",
       "  [10340584]   chrXVI 948006-948060      *\n",
       "  -------\n",
       "  seqinfo: 17 sequences from an unspecified genome; no seqlengths"
      ]
     },
     "metadata": {},
     "output_type": "display_data"
    }
   ],
   "source": [
    "# Construct GRanges from the paired-end reads\n",
    "read_on_Watson_strand = (aln$strand == '+') & (aln$isize > 0)\n",
    "\n",
    "reads = GRanges(seqnames = Rle(aln$rname[read_on_Watson_strand]),\n",
    "                ranges = IRanges(start = aln$pos[read_on_Watson_strand],\n",
    "                                 width = aln$isize[read_on_Watson_strand]))\n",
    "\n",
    "reads"
   ]
  },
  {
   "cell_type": "code",
   "execution_count": 37,
   "metadata": {},
   "outputs": [
    {
     "data": {
      "text/plain": [
       "1.33 GB"
      ]
     },
     "metadata": {},
     "output_type": "display_data"
    },
    {
     "data": {
      "text/plain": [
       "82.7 MB"
      ]
     },
     "metadata": {},
     "output_type": "display_data"
    }
   ],
   "source": [
    "# Check the size of memory that are occupied by aln and reads objects\n",
    "pryr::object_size(aln)\n",
    "pryr::object_size(reads)"
   ]
  },
  {
   "cell_type": "markdown",
   "metadata": {},
   "source": [
    "The `aln` object occupies 2.7 GB of memory, while the `GRanges` occupy only 168 MB. To free some memory, the `aln` object can be removed now."
   ]
  },
  {
   "cell_type": "code",
   "execution_count": 38,
   "metadata": {},
   "outputs": [],
   "source": [
    "# Remove aln from memory\n",
    "rm(aln)"
   ]
  },
  {
   "cell_type": "code",
   "execution_count": 39,
   "metadata": {},
   "outputs": [
    {
     "data": {
      "text/plain": [
       "\n",
       "   chrI   chrII  chrIII   chrIV   chrIX    chrM    chrV   chrVI  chrVII chrVIII \n",
       " 176486  619123  241879 1175642  349356    9790  449570  212569  836807  445682 \n",
       "   chrX   chrXI  chrXII chrXIII  chrXIV   chrXV  chrXVI \n",
       " 590686  512675 1839424  724905  585225  843454  727311 "
      ]
     },
     "metadata": {},
     "output_type": "display_data"
    }
   ],
   "source": [
    "# Check the number of paired-end reads that were mapped to each chromosome\n",
    "no_of_reads = table(seqnames(reads))\n",
    "no_of_reads"
   ]
  },
  {
   "cell_type": "code",
   "execution_count": 40,
   "metadata": {},
   "outputs": [
    {
     "data": {
      "text/html": [
       "<dl class=dl-horizontal>\n",
       "\t<dt>chrI</dt>\n",
       "\t\t<dd>230218</dd>\n",
       "\t<dt>chrII</dt>\n",
       "\t\t<dd>813184</dd>\n",
       "\t<dt>chrIII</dt>\n",
       "\t\t<dd>316620</dd>\n",
       "\t<dt>chrIV</dt>\n",
       "\t\t<dd>1531933</dd>\n",
       "\t<dt>chrIX</dt>\n",
       "\t\t<dd>439888</dd>\n",
       "\t<dt>chrM</dt>\n",
       "\t\t<dd>85779</dd>\n",
       "\t<dt>chrV</dt>\n",
       "\t\t<dd>576874</dd>\n",
       "\t<dt>chrVI</dt>\n",
       "\t\t<dd>270161</dd>\n",
       "\t<dt>chrVII</dt>\n",
       "\t\t<dd>1090940</dd>\n",
       "\t<dt>chrVIII</dt>\n",
       "\t\t<dd>562643</dd>\n",
       "\t<dt>chrX</dt>\n",
       "\t\t<dd>745751</dd>\n",
       "\t<dt>chrXI</dt>\n",
       "\t\t<dd>666816</dd>\n",
       "\t<dt>chrXII</dt>\n",
       "\t\t<dd>1078177</dd>\n",
       "\t<dt>chrXIII</dt>\n",
       "\t\t<dd>924431</dd>\n",
       "\t<dt>chrXIV</dt>\n",
       "\t\t<dd>784333</dd>\n",
       "\t<dt>chrXV</dt>\n",
       "\t\t<dd>1091291</dd>\n",
       "\t<dt>chrXVI</dt>\n",
       "\t\t<dd>948066</dd>\n",
       "</dl>\n"
      ],
      "text/latex": [
       "\\begin{description*}\n",
       "\\item[chrI] 230218\n",
       "\\item[chrII] 813184\n",
       "\\item[chrIII] 316620\n",
       "\\item[chrIV] 1531933\n",
       "\\item[chrIX] 439888\n",
       "\\item[chrM] 85779\n",
       "\\item[chrV] 576874\n",
       "\\item[chrVI] 270161\n",
       "\\item[chrVII] 1090940\n",
       "\\item[chrVIII] 562643\n",
       "\\item[chrX] 745751\n",
       "\\item[chrXI] 666816\n",
       "\\item[chrXII] 1078177\n",
       "\\item[chrXIII] 924431\n",
       "\\item[chrXIV] 784333\n",
       "\\item[chrXV] 1091291\n",
       "\\item[chrXVI] 948066\n",
       "\\end{description*}\n"
      ],
      "text/markdown": [
       "chrI\n",
       ":   230218chrII\n",
       ":   813184chrIII\n",
       ":   316620chrIV\n",
       ":   1531933chrIX\n",
       ":   439888chrM\n",
       ":   85779chrV\n",
       ":   576874chrVI\n",
       ":   270161chrVII\n",
       ":   1090940chrVIII\n",
       ":   562643chrX\n",
       ":   745751chrXI\n",
       ":   666816chrXII\n",
       ":   1078177chrXIII\n",
       ":   924431chrXIV\n",
       ":   784333chrXV\n",
       ":   1091291chrXVI\n",
       ":   948066\n",
       "\n"
      ],
      "text/plain": [
       "   chrI   chrII  chrIII   chrIV   chrIX    chrM    chrV   chrVI  chrVII chrVIII \n",
       " 230218  813184  316620 1531933  439888   85779  576874  270161 1090940  562643 \n",
       "   chrX   chrXI  chrXII chrXIII  chrXIV   chrXV  chrXVI \n",
       " 745751  666816 1078177  924431  784333 1091291  948066 "
      ]
     },
     "metadata": {},
     "output_type": "display_data"
    }
   ],
   "source": [
    "# Get the chromosome lengths\n",
    "chr_lengths = seqlengths(seqinfo(bam_file))\n",
    "chr_lengths"
   ]
  },
  {
   "cell_type": "code",
   "execution_count": 41,
   "metadata": {},
   "outputs": [
    {
     "data": {
      "text/plain": [
       "\n",
       "     chrI     chrII    chrIII     chrIV     chrIX      chrM      chrV     chrVI \n",
       "0.7666038 0.7613566 0.7639410 0.7674239 0.7941931 0.1141305 0.7793210 0.7868234 \n",
       "   chrVII   chrVIII      chrX     chrXI    chrXII   chrXIII    chrXIV     chrXV \n",
       "0.7670514 0.7921222 0.7920687 0.7688403 1.7060501 0.7841634 0.7461435 0.7728956 \n",
       "   chrXVI \n",
       "0.7671523 "
      ]
     },
     "metadata": {},
     "output_type": "display_data"
    }
   ],
   "source": [
    "# Compute the sequencing depth (number of reads / chromosome)\n",
    "no_of_reads_per_bp = no_of_reads / chr_lengths\n",
    "no_of_reads_per_bp"
   ]
  },
  {
   "cell_type": "markdown",
   "metadata": {},
   "source": [
    "There's a slight variability in the sequencing depth per chromosome, and this is why I prefer to normalize the coverage profiles per chromosome (more about this later).  \n",
    "\n",
    "Chromosome 12 (chrXII) has a much higher sequencing depth though, because of the rDNA region, which we will mask later.\n",
    "\n",
    "The mitochondrial DNA (chrM) has a much lower sequencing depth, but we don't care about chrM, which we will discard from the analysis anyway. \n"
   ]
  },
  {
   "cell_type": "code",
   "execution_count": 42,
   "metadata": {},
   "outputs": [
    {
     "data": {
      "text/html": [
       "<ol class=list-inline>\n",
       "\t<li>'chrI'</li>\n",
       "\t<li>'chrII'</li>\n",
       "\t<li>'chrIII'</li>\n",
       "\t<li>'chrIV'</li>\n",
       "\t<li>'chrIX'</li>\n",
       "\t<li>'chrM'</li>\n",
       "\t<li>'chrV'</li>\n",
       "\t<li>'chrVI'</li>\n",
       "\t<li>'chrVII'</li>\n",
       "\t<li>'chrVIII'</li>\n",
       "\t<li>'chrX'</li>\n",
       "\t<li>'chrXI'</li>\n",
       "\t<li>'chrXII'</li>\n",
       "\t<li>'chrXIII'</li>\n",
       "\t<li>'chrXIV'</li>\n",
       "\t<li>'chrXV'</li>\n",
       "\t<li>'chrXVI'</li>\n",
       "</ol>\n"
      ],
      "text/latex": [
       "\\begin{enumerate*}\n",
       "\\item 'chrI'\n",
       "\\item 'chrII'\n",
       "\\item 'chrIII'\n",
       "\\item 'chrIV'\n",
       "\\item 'chrIX'\n",
       "\\item 'chrM'\n",
       "\\item 'chrV'\n",
       "\\item 'chrVI'\n",
       "\\item 'chrVII'\n",
       "\\item 'chrVIII'\n",
       "\\item 'chrX'\n",
       "\\item 'chrXI'\n",
       "\\item 'chrXII'\n",
       "\\item 'chrXIII'\n",
       "\\item 'chrXIV'\n",
       "\\item 'chrXV'\n",
       "\\item 'chrXVI'\n",
       "\\end{enumerate*}\n"
      ],
      "text/markdown": [
       "1. 'chrI'\n",
       "2. 'chrII'\n",
       "3. 'chrIII'\n",
       "4. 'chrIV'\n",
       "5. 'chrIX'\n",
       "6. 'chrM'\n",
       "7. 'chrV'\n",
       "8. 'chrVI'\n",
       "9. 'chrVII'\n",
       "10. 'chrVIII'\n",
       "11. 'chrX'\n",
       "12. 'chrXI'\n",
       "13. 'chrXII'\n",
       "14. 'chrXIII'\n",
       "15. 'chrXIV'\n",
       "16. 'chrXV'\n",
       "17. 'chrXVI'\n",
       "\n",
       "\n"
      ],
      "text/plain": [
       " [1] \"chrI\"    \"chrII\"   \"chrIII\"  \"chrIV\"   \"chrIX\"   \"chrM\"    \"chrV\"   \n",
       " [8] \"chrVI\"   \"chrVII\"  \"chrVIII\" \"chrX\"    \"chrXI\"   \"chrXII\"  \"chrXIII\"\n",
       "[15] \"chrXIV\"  \"chrXV\"   \"chrXVI\" "
      ]
     },
     "metadata": {},
     "output_type": "display_data"
    }
   ],
   "source": [
    "# The name of all chromosomes can be obtained using seqlevels()\n",
    "seqlevels(reads)"
   ]
  },
  {
   "cell_type": "code",
   "execution_count": 43,
   "metadata": {},
   "outputs": [
    {
     "data": {
      "text/html": [
       "<ol class=list-inline>\n",
       "\t<li>'chrI'</li>\n",
       "\t<li>'chrII'</li>\n",
       "\t<li>'chrIII'</li>\n",
       "\t<li>'chrIV'</li>\n",
       "\t<li>'chrIX'</li>\n",
       "\t<li>'chrV'</li>\n",
       "\t<li>'chrVI'</li>\n",
       "\t<li>'chrVII'</li>\n",
       "\t<li>'chrVIII'</li>\n",
       "\t<li>'chrX'</li>\n",
       "\t<li>'chrXI'</li>\n",
       "\t<li>'chrXII'</li>\n",
       "\t<li>'chrXIII'</li>\n",
       "\t<li>'chrXIV'</li>\n",
       "\t<li>'chrXV'</li>\n",
       "\t<li>'chrXVI'</li>\n",
       "</ol>\n"
      ],
      "text/latex": [
       "\\begin{enumerate*}\n",
       "\\item 'chrI'\n",
       "\\item 'chrII'\n",
       "\\item 'chrIII'\n",
       "\\item 'chrIV'\n",
       "\\item 'chrIX'\n",
       "\\item 'chrV'\n",
       "\\item 'chrVI'\n",
       "\\item 'chrVII'\n",
       "\\item 'chrVIII'\n",
       "\\item 'chrX'\n",
       "\\item 'chrXI'\n",
       "\\item 'chrXII'\n",
       "\\item 'chrXIII'\n",
       "\\item 'chrXIV'\n",
       "\\item 'chrXV'\n",
       "\\item 'chrXVI'\n",
       "\\end{enumerate*}\n"
      ],
      "text/markdown": [
       "1. 'chrI'\n",
       "2. 'chrII'\n",
       "3. 'chrIII'\n",
       "4. 'chrIV'\n",
       "5. 'chrIX'\n",
       "6. 'chrV'\n",
       "7. 'chrVI'\n",
       "8. 'chrVII'\n",
       "9. 'chrVIII'\n",
       "10. 'chrX'\n",
       "11. 'chrXI'\n",
       "12. 'chrXII'\n",
       "13. 'chrXIII'\n",
       "14. 'chrXIV'\n",
       "15. 'chrXV'\n",
       "16. 'chrXVI'\n",
       "\n",
       "\n"
      ],
      "text/plain": [
       " [1] \"chrI\"    \"chrII\"   \"chrIII\"  \"chrIV\"   \"chrIX\"   \"chrV\"    \"chrVI\"  \n",
       " [8] \"chrVII\"  \"chrVIII\" \"chrX\"    \"chrXI\"   \"chrXII\"  \"chrXIII\" \"chrXIV\" \n",
       "[15] \"chrXV\"   \"chrXVI\" "
      ]
     },
     "metadata": {},
     "output_type": "display_data"
    }
   ],
   "source": [
    "# Remove chrM\n",
    "reads = dropSeqlevels(reads, \"chrM\", pruning.mode=\"coarse\")\n",
    "seqlevels(reads)"
   ]
  },
  {
   "cell_type": "code",
   "execution_count": 44,
   "metadata": {},
   "outputs": [
    {
     "data": {
      "image/png": "[encoded data removed]",
      "text/plain": [
       "plot without title"
      ]
     },
     "metadata": {},
     "output_type": "display_data"
    }
   ],
   "source": [
    "# Check the problem with chrXII\n",
    "\n",
    "# Compute the coverage on chrXII\n",
    "cov = coverage(reads)$chrXII\n",
    "\n",
    "plot(cov, type='l')"
   ]
  },
  {
   "cell_type": "code",
   "execution_count": 45,
   "metadata": {},
   "outputs": [
    {
     "data": {
      "text/html": [
       "<dl class=dl-horizontal>\n",
       "\t<dt>95%</dt>\n",
       "\t\t<dd>212</dd>\n",
       "\t<dt>96%</dt>\n",
       "\t\t<dd>224</dd>\n",
       "\t<dt>97%</dt>\n",
       "\t\t<dd>249</dd>\n",
       "\t<dt>98%</dt>\n",
       "\t\t<dd>330</dd>\n",
       "\t<dt>99%</dt>\n",
       "\t\t<dd>6772</dd>\n",
       "</dl>\n"
      ],
      "text/latex": [
       "\\begin{description*}\n",
       "\\item[95\\textbackslash{}\\%] 212\n",
       "\\item[96\\textbackslash{}\\%] 224\n",
       "\\item[97\\textbackslash{}\\%] 249\n",
       "\\item[98\\textbackslash{}\\%] 330\n",
       "\\item[99\\textbackslash{}\\%] 6772\n",
       "\\end{description*}\n"
      ],
      "text/markdown": [
       "95%\n",
       ":   21296%\n",
       ":   22497%\n",
       ":   24998%\n",
       ":   33099%\n",
       ":   6772\n",
       "\n"
      ],
      "text/plain": [
       " 95%  96%  97%  98%  99% \n",
       " 212  224  249  330 6772 "
      ]
     },
     "metadata": {},
     "output_type": "display_data"
    }
   ],
   "source": [
    "# Get a few quantiles for the coverage of chrXII\n",
    "quantile(cov, probs = c(0.95, 0.96, 0.97, 0.98, 0.99))"
   ]
  },
  {
   "cell_type": "code",
   "execution_count": 46,
   "metadata": {},
   "outputs": [
    {
     "data": {
      "text/plain": [
       "IRanges object with 4 ranges and 0 metadata columns:\n",
       "          start       end     width\n",
       "      <integer> <integer> <integer>\n",
       "  [1]    451434    458717      7284\n",
       "  [2]    458727    467854      9128\n",
       "  [3]    467864    468929      1066\n",
       "  [4]    489941    490421       481"
      ]
     },
     "metadata": {},
     "output_type": "display_data"
    }
   ],
   "source": [
    "# Let's see which regions have a coverage higher than 1000\n",
    "slice(cov, lower=1000, rangesOnly=TRUE)"
   ]
  },
  {
   "cell_type": "code",
   "execution_count": 47,
   "metadata": {},
   "outputs": [],
   "source": [
    "# Create a GRanges object that contains all the problematic regions\n",
    "# Discard the reads from the rDNA region\n",
    "bad_regions = GRanges(seqnames = \"chrXII\",\n",
    "                      ranges = IRanges(start = c(451000, 489000),\n",
    "                                       end   = c(469000, 491000)))\n",
    "bad_read_ind = overlapsAny(reads, bad_regions, ignore.strand=TRUE)\n",
    "reads = reads[!bad_read_ind]"
   ]
  },
  {
   "cell_type": "code",
   "execution_count": 48,
   "metadata": {},
   "outputs": [
    {
     "data": {
      "text/plain": [
       "\n",
       "     chrI     chrII    chrIII     chrIV     chrIX      chrV     chrVI    chrVII \n",
       "0.7666038 0.7613566 0.7639410 0.7674239 0.7941931 0.7793210 0.7868234 0.7670514 \n",
       "  chrVIII      chrX     chrXI    chrXII   chrXIII    chrXIV     chrXV    chrXVI \n",
       "0.7921222 0.7920687 0.7688403 0.7760711 0.7841634 0.7461435 0.7728956 0.7671523 "
      ]
     },
     "metadata": {},
     "output_type": "display_data"
    }
   ],
   "source": [
    "# Check the number of paired-end reads that were mapped to each chromosome,\n",
    "# after removing the rDNA reads\n",
    "no_of_reads = table(seqnames(reads))\n",
    "chr_lengths = chr_lengths[seqlevels(reads)]\n",
    "no_of_reads_per_bp = no_of_reads / chr_lengths\n",
    "no_of_reads_per_bp"
   ]
  },
  {
   "cell_type": "markdown",
   "metadata": {},
   "source": [
    "After removing the mitochondrial DNA and the problematic regions of `chrXII`, the sequencing depth became much more even (between 0.746 and 0.794 reads per bp)."
   ]
  },
  {
   "cell_type": "code",
   "execution_count": 49,
   "metadata": {},
   "outputs": [],
   "source": [
    "# Save the sequencing depth to a csv file\n",
    "dir.create(\"results\")\n",
    "write.csv(data.frame(Chrom = names(no_of_reads_per_bp), \n",
    "                     Reads_per_bp = as.vector(no_of_reads_per_bp)),\n",
    "          file = \"results/Sequencing_depth.SRR3649298.csv\",\n",
    "          row.names = FALSE)"
   ]
  },
  {
   "cell_type": "markdown",
   "metadata": {},
   "source": [
    "Next, we'll check the fragment length distribution."
   ]
  },
  {
   "cell_type": "code",
   "execution_count": 50,
   "metadata": {},
   "outputs": [
    {
     "data": {
      "image/png": "[encoded data removed]",
      "text/plain": [
       "Plot with title \"Histogram of read_length\""
      ]
     },
     "metadata": {},
     "output_type": "display_data"
    }
   ],
   "source": [
    "# Get read lengths. This is done easily using the width accessor (method) of GRanges \n",
    "read_length = width(reads)\n",
    "\n",
    "# Plot a histogram of read lengths\n",
    "h = hist(read_length, breaks = seq(from = 0.5, to = 1000.5, by = 1), plot = TRUE)"
   ]
  },
  {
   "cell_type": "markdown",
   "metadata": {},
   "source": [
    "This plot shows the number of reads that have a given length. Since different samples have different total numbers of reads, it is more convenient to plot the percentage of reads for each length. We'll do this using `ggplot` to create a nicer figure."
   ]
  },
  {
   "cell_type": "code",
   "execution_count": 51,
   "metadata": {
    "scrolled": true
   },
   "outputs": [
    {
     "name": "stderr",
     "output_type": "stream",
     "text": [
      "Warning message:\n",
      "\"Removed 450 rows containing missing values (geom_path).\""
     ]
    },
    {
     "data": {},
     "metadata": {},
     "output_type": "display_data"
    },
    {
     "data": {
      "image/png": "[encoded data removed]",
      "text/plain": [
       "plot without title"
      ]
     },
     "metadata": {},
     "output_type": "display_data"
    }
   ],
   "source": [
    "options(repr.plot.width=3, repr.plot.height=2)\n",
    "df = data.frame(frag_length = h$mids, percentage_of_reads = 100*h$density)\n",
    "p = ggplot(df, aes(x = frag_length, y = percentage_of_reads)) + \n",
    "  geom_line(colour=\"#56B4E9\") +\n",
    "  scale_x_continuous(limits = c(0, 550), expand = c(0, 0), \n",
    "                     breaks = seq(100, 500, 100)) +\n",
    "  scale_y_continuous(expand = c(0, 0)) +\n",
    "  theme_classic() +\n",
    "  xlab(\"Fragment length (bp)\") + \n",
    "  ylab(\"Percentage (%)\")\n",
    "p"
   ]
  },
  {
   "cell_type": "code",
   "execution_count": 52,
   "metadata": {},
   "outputs": [
    {
     "name": "stderr",
     "output_type": "stream",
     "text": [
      "Warning message:\n",
      "\"Removed 450 rows containing missing values (geom_path).\""
     ]
    }
   ],
   "source": [
    "# Save the histogram to a pdf file\n",
    "ggsave(filename = \"results/Length_histogram.SRR3649298.pdf\", \n",
    "       plot = p, width = 4, height = 3, units = \"in\")"
   ]
  },
  {
   "cell_type": "code",
   "execution_count": 53,
   "metadata": {},
   "outputs": [],
   "source": [
    "# Save the histogram to a csv file\n",
    "write.csv(data.frame(Length = h$mids, Percentage = 100*h$density), \n",
    "          file = \"results/Length_histogram.SRR3649298.csv\", \n",
    "          row.names = FALSE)"
   ]
  },
  {
   "cell_type": "markdown",
   "metadata": {},
   "source": [
    "Next, we will select the nucleosomal reads, with the length close to 150 bp (e.g. reads with the length between 120 bp and 180 bp), and we will analyze the distribution of the corresponding nucleosomes."
   ]
  },
  {
   "cell_type": "code",
   "execution_count": 54,
   "metadata": {},
   "outputs": [],
   "source": [
    "# Size selection\n",
    "Lmin = 120\n",
    "Lmax = 180\n",
    "size_filter = ((read_length >= Lmin) & (read_length <= Lmax))\n",
    "reads.120_180 = reads[size_filter]"
   ]
  },
  {
   "cell_type": "code",
   "execution_count": 55,
   "metadata": {},
   "outputs": [
    {
     "name": "stdout",
     "output_type": "stream",
     "text": [
      "Avg. occ. for chrI is 75.159\n",
      "Avg. occ. for chrII is 72.887\n",
      "Avg. occ. for chrIII is 73.846\n",
      "Avg. occ. for chrIV is 73.132\n",
      "Avg. occ. for chrIX is 77.208\n",
      "Avg. occ. for chrV is 74.193\n",
      "Avg. occ. for chrVI is 76.503\n",
      "Avg. occ. for chrVII is 72.982\n",
      "Avg. occ. for chrVIII is 75.884\n",
      "Avg. occ. for chrX is 76.819\n",
      "Avg. occ. for chrXI is 73.616\n",
      "Avg. occ. for chrXII is 74.206\n",
      "Avg. occ. for chrXIII is 75.107\n",
      "Avg. occ. for chrXIV is 71.542\n",
      "Avg. occ. for chrXV is 73.939\n",
      "Avg. occ. for chrXVI is 73.067\n"
     ]
    }
   ],
   "source": [
    "# Compute the raw coverage of these reads\n",
    "raw_occ = coverage(reads.120_180)\n",
    "\n",
    "# Compute the average occupancy for each chromosome\n",
    "chr_label = seqlevels(raw_occ)\n",
    "for(chr in chr_label){\n",
    "    cat(sprintf(\"Avg. occ. for %s is %0.3f\\n\", chr, mean(raw_occ[[chr]])))\n",
    "}"
   ]
  },
  {
   "cell_type": "code",
   "execution_count": 56,
   "metadata": {},
   "outputs": [],
   "source": [
    "# Get the normalization factor, 1 / avg(occ), for each chromosome\n",
    "occ_norm_factor = list()\n",
    "for(chr in chr_label){\n",
    "    occ_norm_factor[[chr]] = 1/mean(raw_occ[[chr]])\n",
    "}"
   ]
  },
  {
   "cell_type": "code",
   "execution_count": 57,
   "metadata": {},
   "outputs": [],
   "source": [
    "# Compute the normalized occupancy (relative to chromosome average)\n",
    "norm_occ = coverage(reads.120_180, weight = occ_norm_factor)"
   ]
  },
  {
   "cell_type": "code",
   "execution_count": 58,
   "metadata": {},
   "outputs": [
    {
     "name": "stdout",
     "output_type": "stream",
     "text": [
      "Avg. occ. for chrI is 1.000\n",
      "Avg. occ. for chrII is 1.000\n",
      "Avg. occ. for chrIII is 1.000\n",
      "Avg. occ. for chrIV is 1.000\n",
      "Avg. occ. for chrIX is 1.000\n",
      "Avg. occ. for chrV is 1.000\n",
      "Avg. occ. for chrVI is 1.000\n",
      "Avg. occ. for chrVII is 1.000\n",
      "Avg. occ. for chrVIII is 1.000\n",
      "Avg. occ. for chrX is 1.000\n",
      "Avg. occ. for chrXI is 1.000\n",
      "Avg. occ. for chrXII is 1.000\n",
      "Avg. occ. for chrXIII is 1.000\n",
      "Avg. occ. for chrXIV is 1.000\n",
      "Avg. occ. for chrXV is 1.000\n",
      "Avg. occ. for chrXVI is 1.000\n"
     ]
    }
   ],
   "source": [
    "# Check the averages of the normalized occupancy for each chromosome\n",
    "for(chr in chr_label){\n",
    "    cat(sprintf(\"Avg. occ. for %s is %0.3f\\n\", chr, mean(norm_occ[[chr]])))\n",
    "}"
   ]
  },
  {
   "cell_type": "markdown",
   "metadata": {},
   "source": [
    "Similarly, we can compute the genome-wide distribution of the nucleosome dyads (centers of DNA fragments)."
   ]
  },
  {
   "cell_type": "code",
   "execution_count": 59,
   "metadata": {},
   "outputs": [
    {
     "data": {
      "text/plain": [
       "GRanges object with 6 ranges and 0 metadata columns:\n",
       "      seqnames    ranges strand\n",
       "         <Rle> <IRanges>  <Rle>\n",
       "  [1]     chrI       124      *\n",
       "  [2]     chrI       179      *\n",
       "  [3]     chrI       161      *\n",
       "  [4]     chrI       197      *\n",
       "  [5]     chrI       186      *\n",
       "  [6]     chrI       196      *\n",
       "  -------\n",
       "  seqinfo: 16 sequences from an unspecified genome; no seqlengths"
      ]
     },
     "metadata": {},
     "output_type": "display_data"
    }
   ],
   "source": [
    "# Get the centers of all reads\n",
    "dyad_pos.120_180 = resize(reads.120_180, width=1, fix=\"center\")\n",
    "head(dyad_pos.120_180)"
   ]
  },
  {
   "cell_type": "code",
   "execution_count": 60,
   "metadata": {},
   "outputs": [],
   "source": [
    "# Stack all dyad positions to construct the raw distribution of dyads\n",
    "raw_dyads = coverage(dyad_pos.120_180)"
   ]
  },
  {
   "cell_type": "code",
   "execution_count": 61,
   "metadata": {},
   "outputs": [],
   "source": [
    "# Get the normalization factors for each chromosome\n",
    "dyads_norm_factor = list()\n",
    "for(chr in chr_label){\n",
    "    dyads_norm_factor[[chr]] = 1/mean(raw_dyads[[chr]])\n",
    "}"
   ]
  },
  {
   "cell_type": "code",
   "execution_count": 62,
   "metadata": {},
   "outputs": [],
   "source": [
    "# Compute the normalized dyad distribution (relative to chromosome average)\n",
    "norm_dyads = coverage(dyad_pos.120_180, weight = dyads_norm_factor)"
   ]
  },
  {
   "cell_type": "code",
   "execution_count": 63,
   "metadata": {},
   "outputs": [
    {
     "name": "stdout",
     "output_type": "stream",
     "text": [
      "Avg. dyad density for chrI is 1.000\n",
      "Avg. dyad density for chrII is 1.000\n",
      "Avg. dyad density for chrIII is 1.000\n",
      "Avg. dyad density for chrIV is 1.000\n",
      "Avg. dyad density for chrIX is 1.000\n",
      "Avg. dyad density for chrV is 1.000\n",
      "Avg. dyad density for chrVI is 1.000\n",
      "Avg. dyad density for chrVII is 1.000\n",
      "Avg. dyad density for chrVIII is 1.000\n",
      "Avg. dyad density for chrX is 1.000\n",
      "Avg. dyad density for chrXI is 1.000\n",
      "Avg. dyad density for chrXII is 1.000\n",
      "Avg. dyad density for chrXIII is 1.000\n",
      "Avg. dyad density for chrXIV is 1.000\n",
      "Avg. dyad density for chrXV is 1.000\n",
      "Avg. dyad density for chrXVI is 1.000\n"
     ]
    }
   ],
   "source": [
    "# Check the averages of the normalized dyad distribution for each chromosome\n",
    "for(chr in chr_label){\n",
    "    cat(sprintf(\"Avg. dyad density for %s is %0.3f\\n\", chr, mean(norm_dyads[[chr]])))\n",
    "}"
   ]
  },
  {
   "cell_type": "code",
   "execution_count": 64,
   "metadata": {},
   "outputs": [],
   "source": [
    "# Save profiles to BigWig files\n",
    "rtracklayer::export.bw(norm_occ, \"results/Norm_occ.SRR3649298.120-180.bw\")\n",
    "rtracklayer::export.bw(norm_dyads, \"results/Norm_dyads.SRR3649298.120-180.bw\")"
   ]
  },
  {
   "cell_type": "markdown",
   "metadata": {},
   "source": [
    "### Visualizations\n",
    "Next we will visualize the nucleosome distribution in different ways. The BigWig files that we created can be loaded in the IGV browser (http://software.broadinstitute.org/software/igv/), but we can also visualize the data directly in R."
   ]
  },
  {
   "cell_type": "markdown",
   "metadata": {},
   "source": [
    "First, let's look at a single genomic locus. Let's look at the _ARG1_ gene (`chrXV:219,211-220,473`)."
   ]
  },
  {
   "cell_type": "code",
   "execution_count": 65,
   "metadata": {},
   "outputs": [
    {
     "name": "stderr",
     "output_type": "stream",
     "text": [
      "Download the sgdGene table ... OK\n",
      "Download the sgdIsoforms table ... OK\n",
      "Download the sgdCanonical table ... OK\n",
      "Extract the 'transcripts' data frame ... OK\n",
      "Extract the 'splicings' data frame ... OK\n",
      "Download and preprocess the 'chrominfo' data frame ... OK\n",
      "Prepare the 'metadata' data frame ... OK\n",
      "Make the TxDb object ... OK\n"
     ]
    },
    {
     "data": {
      "image/png": "[encoded data removed]",
      "text/plain": [
       "plot without title"
      ]
     },
     "metadata": {},
     "output_type": "display_data"
    }
   ],
   "source": [
    "# Specify the range to plot\n",
    "chr = \"chrXV\"\n",
    "view_from = 217000\n",
    "view_to = 223000\n",
    "\n",
    "dyadsTrack = DataTrack(\n",
    "    range = \"results/Norm_dyads.SRR3649298.120-180.bw\",\n",
    "    type = \"l\",\n",
    "    genome = \"sacCer3\",\n",
    "    name = \"Dyads\"\n",
    ")\n",
    "\n",
    "occTrack = DataTrack(\n",
    "    range = \"results/Norm_occ.SRR3649298.120-180.bw\",\n",
    "    type = \"l\",\n",
    "    genome = \"sacCer3\",\n",
    "    name = \"Occupancy\"\n",
    ")\n",
    "\n",
    "# Gene annotation track\n",
    "txdb = makeTxDbFromUCSC(genome=\"sacCer3\", tablename = \"sgdGene\")\n",
    "genesTrack = GeneRegionTrack(txdb, name=\"Genes\", showId=TRUE)\n",
    "\n",
    "# Genomic coordinate track\n",
    "coordTrack = GenomeAxisTrack()\n",
    "\n",
    "options(repr.plot.width=7, repr.plot.height=4)\n",
    "plotTracks(\n",
    "    list(dyadsTrack, occTrack, genesTrack, coordTrack),\n",
    "    chromosome = \"chrXV\", \n",
    "    from = view_from, to = view_to\n",
    ")"
   ]
  },
  {
   "cell_type": "code",
   "execution_count": 66,
   "metadata": {},
   "outputs": [
    {
     "data": {
      "text/html": [
       "<strong>pdf:</strong> 2"
      ],
      "text/latex": [
       "\\textbf{pdf:} 2"
      ],
      "text/markdown": [
       "**pdf:** 2"
      ],
      "text/plain": [
       "pdf \n",
       "  2 "
      ]
     },
     "metadata": {},
     "output_type": "display_data"
    }
   ],
   "source": [
    "# Save figure to a pdf file\n",
    "pdf(\"results/Nuc_distribution.ARG1.pdf\")\n",
    "plotTracks(\n",
    "    list(dyadsTrack, occTrack, genesTrack, coordTrack),\n",
    "    chromosome = \"chrXV\", \n",
    "    from = view_from, to = view_to\n",
    ")\n",
    "dev.off()"
   ]
  },
  {
   "cell_type": "code",
   "execution_count": null,
   "metadata": {},
   "outputs": [],
   "source": []
  }
 ],
 "metadata": {
  "kernelspec": {
   "display_name": "R 3.5",
   "language": "R",
   "name": "ir35"
  },
  "language_info": {
   "codemirror_mode": "r",
   "file_extension": ".r",
   "mimetype": "text/x-r-source",
   "name": "R",
   "pygments_lexer": "r",
   "version": "3.5.1"
  }
 },
 "nbformat": 4,
 "nbformat_minor": 2
}
